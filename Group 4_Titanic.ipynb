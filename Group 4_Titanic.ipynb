{
  "nbformat": 4,
  "nbformat_minor": 0,
  "metadata": {
    "colab": {
      "name": "DataScienceProject.ipynb",
      "provenance": [],
      "collapsed_sections": []
    },
    "kernelspec": {
      "name": "python3",
      "display_name": "Python 3"
    },
    "language_info": {
      "name": "python"
    }
  },
  "cells": [
    {
      "cell_type": "markdown",
      "source": [
        "**IMPORTANT POINTS TO NOTE :**\n",
        "\n",
        "1. This code has to be run **twice**.\n",
        "2. FIRST : Run the code **without** Feature \n",
        "Engineering\n",
        "3. SECOND : Run the code **with** Feature Engineering\n",
        "> * Comment the Step 9 (without feature engineering)\n",
        "> * Uncomment the Step 9 (with feature engineering) \n",
        "> * Uncomment the feature engineering code (marked ##) \n",
        "4. Note the change in accuracy in the 2 cases (runs)\n"
      ],
      "metadata": {
        "id": "aTtcHT3sfT4K"
      }
    },
    {
      "cell_type": "markdown",
      "source": [
        "1 - Import all important libraries"
      ],
      "metadata": {
        "id": "2jfsE4DULPes"
      }
    },
    {
      "cell_type": "code",
      "source": [
        "import numpy as np\n",
        "import pandas as pd\n",
        "import matplotlib.pyplot as plt\n",
        "import seaborn as sns\n",
        "%matplotlib inline"
      ],
      "metadata": {
        "id": "nW7sMm4tPyAJ"
      },
      "execution_count": 2252,
      "outputs": []
    },
    {
      "cell_type": "markdown",
      "source": [
        "2 - Reading the titanic_train.csv file into pandas dataframe"
      ],
      "metadata": {
        "id": "rUJ39UdhLgEY"
      }
    },
    {
      "cell_type": "code",
      "source": [
        "# titanic_train.csv file is assigned to dataframe \"titanic\"\n",
        "titanic = pd.read_csv('titanic_train.csv') "
      ],
      "metadata": {
        "id": "z8uCipggP5aT"
      },
      "execution_count": 2253,
      "outputs": []
    },
    {
      "cell_type": "markdown",
      "source": [
        "3 - View the top few rows of the dataframe"
      ],
      "metadata": {
        "id": "3_cJojA9MGVM"
      }
    },
    {
      "cell_type": "code",
      "source": [
        "# Display first 5 rows of dataframe\n",
        "titanic.head()"
      ],
      "metadata": {
        "id": "r85PYtX4QAia",
        "colab": {
          "base_uri": "https://localhost:8080/",
          "height": 250
        },
        "outputId": "c628fe75-26e3-42a9-af66-6d08e8c7519f"
      },
      "execution_count": 2254,
      "outputs": [
        {
          "output_type": "execute_result",
          "data": {
            "text/plain": [
              "   PassengerId  Survived  Pclass  \\\n",
              "0            1         0       3   \n",
              "1            2         1       1   \n",
              "2            3         1       3   \n",
              "3            4         1       1   \n",
              "4            5         0       3   \n",
              "\n",
              "                                                Name     Sex   Age  SibSp  \\\n",
              "0                            Braund, Mr. Owen Harris    male  22.0      1   \n",
              "1  Cumings, Mrs. John Bradley (Florence Briggs Th...  female  38.0      1   \n",
              "2                             Heikkinen, Miss. Laina  female  26.0      0   \n",
              "3       Futrelle, Mrs. Jacques Heath (Lily May Peel)  female  35.0      1   \n",
              "4                           Allen, Mr. William Henry    male  35.0      0   \n",
              "\n",
              "   Parch            Ticket     Fare Cabin Embarked  \n",
              "0      0         A/5 21171   7.2500   NaN        S  \n",
              "1      0          PC 17599  71.2833   C85        C  \n",
              "2      0  STON/O2. 3101282   7.9250   NaN        S  \n",
              "3      0            113803  53.1000  C123        S  \n",
              "4      0            373450   8.0500   NaN        S  "
            ],
            "text/html": [
              "\n",
              "  <div id=\"df-a18df308-5b71-490c-8f8c-eb650f1eaef5\">\n",
              "    <div class=\"colab-df-container\">\n",
              "      <div>\n",
              "<style scoped>\n",
              "    .dataframe tbody tr th:only-of-type {\n",
              "        vertical-align: middle;\n",
              "    }\n",
              "\n",
              "    .dataframe tbody tr th {\n",
              "        vertical-align: top;\n",
              "    }\n",
              "\n",
              "    .dataframe thead th {\n",
              "        text-align: right;\n",
              "    }\n",
              "</style>\n",
              "<table border=\"1\" class=\"dataframe\">\n",
              "  <thead>\n",
              "    <tr style=\"text-align: right;\">\n",
              "      <th></th>\n",
              "      <th>PassengerId</th>\n",
              "      <th>Survived</th>\n",
              "      <th>Pclass</th>\n",
              "      <th>Name</th>\n",
              "      <th>Sex</th>\n",
              "      <th>Age</th>\n",
              "      <th>SibSp</th>\n",
              "      <th>Parch</th>\n",
              "      <th>Ticket</th>\n",
              "      <th>Fare</th>\n",
              "      <th>Cabin</th>\n",
              "      <th>Embarked</th>\n",
              "    </tr>\n",
              "  </thead>\n",
              "  <tbody>\n",
              "    <tr>\n",
              "      <th>0</th>\n",
              "      <td>1</td>\n",
              "      <td>0</td>\n",
              "      <td>3</td>\n",
              "      <td>Braund, Mr. Owen Harris</td>\n",
              "      <td>male</td>\n",
              "      <td>22.0</td>\n",
              "      <td>1</td>\n",
              "      <td>0</td>\n",
              "      <td>A/5 21171</td>\n",
              "      <td>7.2500</td>\n",
              "      <td>NaN</td>\n",
              "      <td>S</td>\n",
              "    </tr>\n",
              "    <tr>\n",
              "      <th>1</th>\n",
              "      <td>2</td>\n",
              "      <td>1</td>\n",
              "      <td>1</td>\n",
              "      <td>Cumings, Mrs. John Bradley (Florence Briggs Th...</td>\n",
              "      <td>female</td>\n",
              "      <td>38.0</td>\n",
              "      <td>1</td>\n",
              "      <td>0</td>\n",
              "      <td>PC 17599</td>\n",
              "      <td>71.2833</td>\n",
              "      <td>C85</td>\n",
              "      <td>C</td>\n",
              "    </tr>\n",
              "    <tr>\n",
              "      <th>2</th>\n",
              "      <td>3</td>\n",
              "      <td>1</td>\n",
              "      <td>3</td>\n",
              "      <td>Heikkinen, Miss. Laina</td>\n",
              "      <td>female</td>\n",
              "      <td>26.0</td>\n",
              "      <td>0</td>\n",
              "      <td>0</td>\n",
              "      <td>STON/O2. 3101282</td>\n",
              "      <td>7.9250</td>\n",
              "      <td>NaN</td>\n",
              "      <td>S</td>\n",
              "    </tr>\n",
              "    <tr>\n",
              "      <th>3</th>\n",
              "      <td>4</td>\n",
              "      <td>1</td>\n",
              "      <td>1</td>\n",
              "      <td>Futrelle, Mrs. Jacques Heath (Lily May Peel)</td>\n",
              "      <td>female</td>\n",
              "      <td>35.0</td>\n",
              "      <td>1</td>\n",
              "      <td>0</td>\n",
              "      <td>113803</td>\n",
              "      <td>53.1000</td>\n",
              "      <td>C123</td>\n",
              "      <td>S</td>\n",
              "    </tr>\n",
              "    <tr>\n",
              "      <th>4</th>\n",
              "      <td>5</td>\n",
              "      <td>0</td>\n",
              "      <td>3</td>\n",
              "      <td>Allen, Mr. William Henry</td>\n",
              "      <td>male</td>\n",
              "      <td>35.0</td>\n",
              "      <td>0</td>\n",
              "      <td>0</td>\n",
              "      <td>373450</td>\n",
              "      <td>8.0500</td>\n",
              "      <td>NaN</td>\n",
              "      <td>S</td>\n",
              "    </tr>\n",
              "  </tbody>\n",
              "</table>\n",
              "</div>\n",
              "      <button class=\"colab-df-convert\" onclick=\"convertToInteractive('df-a18df308-5b71-490c-8f8c-eb650f1eaef5')\"\n",
              "              title=\"Convert this dataframe to an interactive table.\"\n",
              "              style=\"display:none;\">\n",
              "        \n",
              "  <svg xmlns=\"http://www.w3.org/2000/svg\" height=\"24px\"viewBox=\"0 0 24 24\"\n",
              "       width=\"24px\">\n",
              "    <path d=\"M0 0h24v24H0V0z\" fill=\"none\"/>\n",
              "    <path d=\"M18.56 5.44l.94 2.06.94-2.06 2.06-.94-2.06-.94-.94-2.06-.94 2.06-2.06.94zm-11 1L8.5 8.5l.94-2.06 2.06-.94-2.06-.94L8.5 2.5l-.94 2.06-2.06.94zm10 10l.94 2.06.94-2.06 2.06-.94-2.06-.94-.94-2.06-.94 2.06-2.06.94z\"/><path d=\"M17.41 7.96l-1.37-1.37c-.4-.4-.92-.59-1.43-.59-.52 0-1.04.2-1.43.59L10.3 9.45l-7.72 7.72c-.78.78-.78 2.05 0 2.83L4 21.41c.39.39.9.59 1.41.59.51 0 1.02-.2 1.41-.59l7.78-7.78 2.81-2.81c.8-.78.8-2.07 0-2.86zM5.41 20L4 18.59l7.72-7.72 1.47 1.35L5.41 20z\"/>\n",
              "  </svg>\n",
              "      </button>\n",
              "      \n",
              "  <style>\n",
              "    .colab-df-container {\n",
              "      display:flex;\n",
              "      flex-wrap:wrap;\n",
              "      gap: 12px;\n",
              "    }\n",
              "\n",
              "    .colab-df-convert {\n",
              "      background-color: #E8F0FE;\n",
              "      border: none;\n",
              "      border-radius: 50%;\n",
              "      cursor: pointer;\n",
              "      display: none;\n",
              "      fill: #1967D2;\n",
              "      height: 32px;\n",
              "      padding: 0 0 0 0;\n",
              "      width: 32px;\n",
              "    }\n",
              "\n",
              "    .colab-df-convert:hover {\n",
              "      background-color: #E2EBFA;\n",
              "      box-shadow: 0px 1px 2px rgba(60, 64, 67, 0.3), 0px 1px 3px 1px rgba(60, 64, 67, 0.15);\n",
              "      fill: #174EA6;\n",
              "    }\n",
              "\n",
              "    [theme=dark] .colab-df-convert {\n",
              "      background-color: #3B4455;\n",
              "      fill: #D2E3FC;\n",
              "    }\n",
              "\n",
              "    [theme=dark] .colab-df-convert:hover {\n",
              "      background-color: #434B5C;\n",
              "      box-shadow: 0px 1px 3px 1px rgba(0, 0, 0, 0.15);\n",
              "      filter: drop-shadow(0px 1px 2px rgba(0, 0, 0, 0.3));\n",
              "      fill: #FFFFFF;\n",
              "    }\n",
              "  </style>\n",
              "\n",
              "      <script>\n",
              "        const buttonEl =\n",
              "          document.querySelector('#df-a18df308-5b71-490c-8f8c-eb650f1eaef5 button.colab-df-convert');\n",
              "        buttonEl.style.display =\n",
              "          google.colab.kernel.accessAllowed ? 'block' : 'none';\n",
              "\n",
              "        async function convertToInteractive(key) {\n",
              "          const element = document.querySelector('#df-a18df308-5b71-490c-8f8c-eb650f1eaef5');\n",
              "          const dataTable =\n",
              "            await google.colab.kernel.invokeFunction('convertToInteractive',\n",
              "                                                     [key], {});\n",
              "          if (!dataTable) return;\n",
              "\n",
              "          const docLinkHtml = 'Like what you see? Visit the ' +\n",
              "            '<a target=\"_blank\" href=https://colab.research.google.com/notebooks/data_table.ipynb>data table notebook</a>'\n",
              "            + ' to learn more about interactive tables.';\n",
              "          element.innerHTML = '';\n",
              "          dataTable['output_type'] = 'display_data';\n",
              "          await google.colab.output.renderOutput(dataTable, element);\n",
              "          const docLink = document.createElement('div');\n",
              "          docLink.innerHTML = docLinkHtml;\n",
              "          element.appendChild(docLink);\n",
              "        }\n",
              "      </script>\n",
              "    </div>\n",
              "  </div>\n",
              "  "
            ]
          },
          "metadata": {},
          "execution_count": 2254
        }
      ]
    },
    {
      "cell_type": "markdown",
      "source": [
        "4 - Exploratory Data Analysis to Visualize the data"
      ],
      "metadata": {
        "id": "GF6pZ6pNMWVX"
      }
    },
    {
      "cell_type": "code",
      "source": [
        "# Basic Statistical Description of the dataframe\n",
        "titanic.describe()"
      ],
      "metadata": {
        "colab": {
          "base_uri": "https://localhost:8080/",
          "height": 300
        },
        "id": "wCkg9NCGLIv2",
        "outputId": "6b5ea36b-02ef-4114-d97f-5a95282089f3"
      },
      "execution_count": 2255,
      "outputs": [
        {
          "output_type": "execute_result",
          "data": {
            "text/plain": [
              "       PassengerId    Survived      Pclass         Age       SibSp  \\\n",
              "count   891.000000  891.000000  891.000000  714.000000  891.000000   \n",
              "mean    446.000000    0.383838    2.308642   29.699118    0.523008   \n",
              "std     257.353842    0.486592    0.836071   14.526497    1.102743   \n",
              "min       1.000000    0.000000    1.000000    0.420000    0.000000   \n",
              "25%     223.500000    0.000000    2.000000   20.125000    0.000000   \n",
              "50%     446.000000    0.000000    3.000000   28.000000    0.000000   \n",
              "75%     668.500000    1.000000    3.000000   38.000000    1.000000   \n",
              "max     891.000000    1.000000    3.000000   80.000000    8.000000   \n",
              "\n",
              "            Parch        Fare  \n",
              "count  891.000000  891.000000  \n",
              "mean     0.381594   32.204208  \n",
              "std      0.806057   49.693429  \n",
              "min      0.000000    0.000000  \n",
              "25%      0.000000    7.910400  \n",
              "50%      0.000000   14.454200  \n",
              "75%      0.000000   31.000000  \n",
              "max      6.000000  512.329200  "
            ],
            "text/html": [
              "\n",
              "  <div id=\"df-81a3dec4-87a3-43f2-be4e-43f667eeceb5\">\n",
              "    <div class=\"colab-df-container\">\n",
              "      <div>\n",
              "<style scoped>\n",
              "    .dataframe tbody tr th:only-of-type {\n",
              "        vertical-align: middle;\n",
              "    }\n",
              "\n",
              "    .dataframe tbody tr th {\n",
              "        vertical-align: top;\n",
              "    }\n",
              "\n",
              "    .dataframe thead th {\n",
              "        text-align: right;\n",
              "    }\n",
              "</style>\n",
              "<table border=\"1\" class=\"dataframe\">\n",
              "  <thead>\n",
              "    <tr style=\"text-align: right;\">\n",
              "      <th></th>\n",
              "      <th>PassengerId</th>\n",
              "      <th>Survived</th>\n",
              "      <th>Pclass</th>\n",
              "      <th>Age</th>\n",
              "      <th>SibSp</th>\n",
              "      <th>Parch</th>\n",
              "      <th>Fare</th>\n",
              "    </tr>\n",
              "  </thead>\n",
              "  <tbody>\n",
              "    <tr>\n",
              "      <th>count</th>\n",
              "      <td>891.000000</td>\n",
              "      <td>891.000000</td>\n",
              "      <td>891.000000</td>\n",
              "      <td>714.000000</td>\n",
              "      <td>891.000000</td>\n",
              "      <td>891.000000</td>\n",
              "      <td>891.000000</td>\n",
              "    </tr>\n",
              "    <tr>\n",
              "      <th>mean</th>\n",
              "      <td>446.000000</td>\n",
              "      <td>0.383838</td>\n",
              "      <td>2.308642</td>\n",
              "      <td>29.699118</td>\n",
              "      <td>0.523008</td>\n",
              "      <td>0.381594</td>\n",
              "      <td>32.204208</td>\n",
              "    </tr>\n",
              "    <tr>\n",
              "      <th>std</th>\n",
              "      <td>257.353842</td>\n",
              "      <td>0.486592</td>\n",
              "      <td>0.836071</td>\n",
              "      <td>14.526497</td>\n",
              "      <td>1.102743</td>\n",
              "      <td>0.806057</td>\n",
              "      <td>49.693429</td>\n",
              "    </tr>\n",
              "    <tr>\n",
              "      <th>min</th>\n",
              "      <td>1.000000</td>\n",
              "      <td>0.000000</td>\n",
              "      <td>1.000000</td>\n",
              "      <td>0.420000</td>\n",
              "      <td>0.000000</td>\n",
              "      <td>0.000000</td>\n",
              "      <td>0.000000</td>\n",
              "    </tr>\n",
              "    <tr>\n",
              "      <th>25%</th>\n",
              "      <td>223.500000</td>\n",
              "      <td>0.000000</td>\n",
              "      <td>2.000000</td>\n",
              "      <td>20.125000</td>\n",
              "      <td>0.000000</td>\n",
              "      <td>0.000000</td>\n",
              "      <td>7.910400</td>\n",
              "    </tr>\n",
              "    <tr>\n",
              "      <th>50%</th>\n",
              "      <td>446.000000</td>\n",
              "      <td>0.000000</td>\n",
              "      <td>3.000000</td>\n",
              "      <td>28.000000</td>\n",
              "      <td>0.000000</td>\n",
              "      <td>0.000000</td>\n",
              "      <td>14.454200</td>\n",
              "    </tr>\n",
              "    <tr>\n",
              "      <th>75%</th>\n",
              "      <td>668.500000</td>\n",
              "      <td>1.000000</td>\n",
              "      <td>3.000000</td>\n",
              "      <td>38.000000</td>\n",
              "      <td>1.000000</td>\n",
              "      <td>0.000000</td>\n",
              "      <td>31.000000</td>\n",
              "    </tr>\n",
              "    <tr>\n",
              "      <th>max</th>\n",
              "      <td>891.000000</td>\n",
              "      <td>1.000000</td>\n",
              "      <td>3.000000</td>\n",
              "      <td>80.000000</td>\n",
              "      <td>8.000000</td>\n",
              "      <td>6.000000</td>\n",
              "      <td>512.329200</td>\n",
              "    </tr>\n",
              "  </tbody>\n",
              "</table>\n",
              "</div>\n",
              "      <button class=\"colab-df-convert\" onclick=\"convertToInteractive('df-81a3dec4-87a3-43f2-be4e-43f667eeceb5')\"\n",
              "              title=\"Convert this dataframe to an interactive table.\"\n",
              "              style=\"display:none;\">\n",
              "        \n",
              "  <svg xmlns=\"http://www.w3.org/2000/svg\" height=\"24px\"viewBox=\"0 0 24 24\"\n",
              "       width=\"24px\">\n",
              "    <path d=\"M0 0h24v24H0V0z\" fill=\"none\"/>\n",
              "    <path d=\"M18.56 5.44l.94 2.06.94-2.06 2.06-.94-2.06-.94-.94-2.06-.94 2.06-2.06.94zm-11 1L8.5 8.5l.94-2.06 2.06-.94-2.06-.94L8.5 2.5l-.94 2.06-2.06.94zm10 10l.94 2.06.94-2.06 2.06-.94-2.06-.94-.94-2.06-.94 2.06-2.06.94z\"/><path d=\"M17.41 7.96l-1.37-1.37c-.4-.4-.92-.59-1.43-.59-.52 0-1.04.2-1.43.59L10.3 9.45l-7.72 7.72c-.78.78-.78 2.05 0 2.83L4 21.41c.39.39.9.59 1.41.59.51 0 1.02-.2 1.41-.59l7.78-7.78 2.81-2.81c.8-.78.8-2.07 0-2.86zM5.41 20L4 18.59l7.72-7.72 1.47 1.35L5.41 20z\"/>\n",
              "  </svg>\n",
              "      </button>\n",
              "      \n",
              "  <style>\n",
              "    .colab-df-container {\n",
              "      display:flex;\n",
              "      flex-wrap:wrap;\n",
              "      gap: 12px;\n",
              "    }\n",
              "\n",
              "    .colab-df-convert {\n",
              "      background-color: #E8F0FE;\n",
              "      border: none;\n",
              "      border-radius: 50%;\n",
              "      cursor: pointer;\n",
              "      display: none;\n",
              "      fill: #1967D2;\n",
              "      height: 32px;\n",
              "      padding: 0 0 0 0;\n",
              "      width: 32px;\n",
              "    }\n",
              "\n",
              "    .colab-df-convert:hover {\n",
              "      background-color: #E2EBFA;\n",
              "      box-shadow: 0px 1px 2px rgba(60, 64, 67, 0.3), 0px 1px 3px 1px rgba(60, 64, 67, 0.15);\n",
              "      fill: #174EA6;\n",
              "    }\n",
              "\n",
              "    [theme=dark] .colab-df-convert {\n",
              "      background-color: #3B4455;\n",
              "      fill: #D2E3FC;\n",
              "    }\n",
              "\n",
              "    [theme=dark] .colab-df-convert:hover {\n",
              "      background-color: #434B5C;\n",
              "      box-shadow: 0px 1px 3px 1px rgba(0, 0, 0, 0.15);\n",
              "      filter: drop-shadow(0px 1px 2px rgba(0, 0, 0, 0.3));\n",
              "      fill: #FFFFFF;\n",
              "    }\n",
              "  </style>\n",
              "\n",
              "      <script>\n",
              "        const buttonEl =\n",
              "          document.querySelector('#df-81a3dec4-87a3-43f2-be4e-43f667eeceb5 button.colab-df-convert');\n",
              "        buttonEl.style.display =\n",
              "          google.colab.kernel.accessAllowed ? 'block' : 'none';\n",
              "\n",
              "        async function convertToInteractive(key) {\n",
              "          const element = document.querySelector('#df-81a3dec4-87a3-43f2-be4e-43f667eeceb5');\n",
              "          const dataTable =\n",
              "            await google.colab.kernel.invokeFunction('convertToInteractive',\n",
              "                                                     [key], {});\n",
              "          if (!dataTable) return;\n",
              "\n",
              "          const docLinkHtml = 'Like what you see? Visit the ' +\n",
              "            '<a target=\"_blank\" href=https://colab.research.google.com/notebooks/data_table.ipynb>data table notebook</a>'\n",
              "            + ' to learn more about interactive tables.';\n",
              "          element.innerHTML = '';\n",
              "          dataTable['output_type'] = 'display_data';\n",
              "          await google.colab.output.renderOutput(dataTable, element);\n",
              "          const docLink = document.createElement('div');\n",
              "          docLink.innerHTML = docLinkHtml;\n",
              "          element.appendChild(docLink);\n",
              "        }\n",
              "      </script>\n",
              "    </div>\n",
              "  </div>\n",
              "  "
            ]
          },
          "metadata": {},
          "execution_count": 2255
        }
      ]
    },
    {
      "cell_type": "code",
      "source": [
        "# Information on rows and columns of the dataframe. \n",
        "titanic.info() "
      ],
      "metadata": {
        "colab": {
          "base_uri": "https://localhost:8080/"
        },
        "id": "Gc-XlpZDLd_p",
        "outputId": "d3e9cc10-e420-46e7-f568-a203b182ca99"
      },
      "execution_count": 2256,
      "outputs": [
        {
          "output_type": "stream",
          "name": "stdout",
          "text": [
            "<class 'pandas.core.frame.DataFrame'>\n",
            "RangeIndex: 891 entries, 0 to 890\n",
            "Data columns (total 12 columns):\n",
            " #   Column       Non-Null Count  Dtype  \n",
            "---  ------       --------------  -----  \n",
            " 0   PassengerId  891 non-null    int64  \n",
            " 1   Survived     891 non-null    int64  \n",
            " 2   Pclass       891 non-null    int64  \n",
            " 3   Name         891 non-null    object \n",
            " 4   Sex          891 non-null    object \n",
            " 5   Age          714 non-null    float64\n",
            " 6   SibSp        891 non-null    int64  \n",
            " 7   Parch        891 non-null    int64  \n",
            " 8   Ticket       891 non-null    object \n",
            " 9   Fare         891 non-null    float64\n",
            " 10  Cabin        204 non-null    object \n",
            " 11  Embarked     889 non-null    object \n",
            "dtypes: float64(2), int64(5), object(5)\n",
            "memory usage: 83.7+ KB\n"
          ]
        }
      ]
    },
    {
      "cell_type": "markdown",
      "source": [
        " Note : According to titanic.info(), there are 891 rows and 12 columns"
      ],
      "metadata": {
        "id": "FY9z7F9ZNEMs"
      }
    },
    {
      "cell_type": "markdown",
      "source": [
        "Note : Key points\n",
        "\n",
        "1.   Positive = Survived (1)\n",
        "2.   Negative = Not Survived (0)\n",
        "\n"
      ],
      "metadata": {
        "id": "gKDo9WFazlj9"
      }
    },
    {
      "cell_type": "code",
      "source": [
        "# Bar graph to show number of people survived/not survived\n",
        "sns.countplot(titanic['Survived'])"
      ],
      "metadata": {
        "colab": {
          "base_uri": "https://localhost:8080/",
          "height": 297
        },
        "id": "psB9bbhzLe2E",
        "outputId": "2bcbf355-1ff9-42cf-feff-f0f42fae9c55"
      },
      "execution_count": 2257,
      "outputs": [
        {
          "output_type": "execute_result",
          "data": {
            "text/plain": [
              "<matplotlib.axes._subplots.AxesSubplot at 0x7f633e780b10>"
            ]
          },
          "metadata": {},
          "execution_count": 2257
        },
        {
          "output_type": "display_data",
          "data": {
            "text/plain": [
              "<Figure size 432x288 with 1 Axes>"
            ],
            "image/png": "[encoded data removed]"
          },
          "metadata": {
            "needs_background": "light"
          }
        }
      ]
    },
    {
      "cell_type": "code",
      "source": [
        "# Bar graph to show survival status based on gender\n",
        "sns.countplot(x='Survived', hue='Sex', data=titanic)"
      ],
      "metadata": {
        "colab": {
          "base_uri": "https://localhost:8080/",
          "height": 297
        },
        "id": "ncspySTBLe-N",
        "outputId": "b68bee84-277f-4261-e83e-10097f83c1c7"
      },
      "execution_count": 2258,
      "outputs": [
        {
          "output_type": "execute_result",
          "data": {
            "text/plain": [
              "<matplotlib.axes._subplots.AxesSubplot at 0x7f633e2ea650>"
            ]
          },
          "metadata": {},
          "execution_count": 2258
        },
        {
          "output_type": "display_data",
          "data": {
            "text/plain": [
              "<Figure size 432x288 with 1 Axes>"
            ],
            "image/png": "[encoded data removed]"
          },
          "metadata": {
            "needs_background": "light"
          }
        }
      ]
    },
    {
      "cell_type": "code",
      "source": [
        "# Bar graph to show distribution of passengers among different classes\n",
        "sns.countplot(titanic['Pclass'])"
      ],
      "metadata": {
        "colab": {
          "base_uri": "https://localhost:8080/",
          "height": 297
        },
        "id": "XqGcsgVNMoPY",
        "outputId": "55370d1d-1199-43c7-d945-1f7b887d894a"
      },
      "execution_count": 2259,
      "outputs": [
        {
          "output_type": "execute_result",
          "data": {
            "text/plain": [
              "<matplotlib.axes._subplots.AxesSubplot at 0x7f633e2d4e50>"
            ]
          },
          "metadata": {},
          "execution_count": 2259
        },
        {
          "output_type": "display_data",
          "data": {
            "text/plain": [
              "<Figure size 432x288 with 1 Axes>"
            ],
            "image/png": "[encoded data removed]"
          },
          "metadata": {
            "needs_background": "light"
          }
        }
      ]
    },
    {
      "cell_type": "code",
      "source": [
        "# Bar graph to show survival status based on different classes\n",
        "sns.countplot(x='Survived', hue='Pclass', data=titanic)"
      ],
      "metadata": {
        "colab": {
          "base_uri": "https://localhost:8080/",
          "height": 297
        },
        "id": "fuN7hAfULfCX",
        "outputId": "28c2dc5f-2540-44ba-9b6f-fea8a47733fa"
      },
      "execution_count": 2260,
      "outputs": [
        {
          "output_type": "execute_result",
          "data": {
            "text/plain": [
              "<matplotlib.axes._subplots.AxesSubplot at 0x7f633e234c50>"
            ]
          },
          "metadata": {},
          "execution_count": 2260
        },
        {
          "output_type": "display_data",
          "data": {
            "text/plain": [
              "<Figure size 432x288 with 1 Axes>"
            ],
            "image/png": "[encoded data removed]"
          },
          "metadata": {
            "needs_background": "light"
          }
        }
      ]
    },
    {
      "cell_type": "code",
      "source": [
        "# Histogram of ages of passengers\n",
        "plt.hist(titanic['Age'])\n",
        "plt.xlabel(\"Age\")\n",
        "plt.ylabel(\"Number of persons\")\n",
        "plt.title('Passenger Ages on Titanic')"
      ],
      "metadata": {
        "colab": {
          "base_uri": "https://localhost:8080/",
          "height": 313
        },
        "id": "Pm579LvMLfGL",
        "outputId": "79872384-33f1-42d0-ac6f-3a59555d573c"
      },
      "execution_count": 2261,
      "outputs": [
        {
          "output_type": "execute_result",
          "data": {
            "text/plain": [
              "Text(0.5, 1.0, 'Passenger Ages on Titanic')"
            ]
          },
          "metadata": {},
          "execution_count": 2261
        },
        {
          "output_type": "display_data",
          "data": {
            "text/plain": [
              "<Figure size 432x288 with 1 Axes>"
            ],
            "image/png": "[encoded data removed]"
          },
          "metadata": {
            "needs_background": "light"
          }
        }
      ]
    },
    {
      "cell_type": "code",
      "source": [
        "# Bar graph to show number of siblings/spouses passengers have come with\n",
        "sns.countplot(titanic.SibSp)\n",
        "plt.title(\"Number of Sibling/Spouses Aboard\")\n",
        "plt.xlabel(\"Sibling/Spouses Aboard\")"
      ],
      "metadata": {
        "colab": {
          "base_uri": "https://localhost:8080/",
          "height": 313
        },
        "id": "BYRh_Cw0Qo9j",
        "outputId": "cf2def35-995d-4d18-a70d-3a795da655f1"
      },
      "execution_count": 2262,
      "outputs": [
        {
          "output_type": "execute_result",
          "data": {
            "text/plain": [
              "Text(0.5, 0, 'Sibling/Spouses Aboard')"
            ]
          },
          "metadata": {},
          "execution_count": 2262
        },
        {
          "output_type": "display_data",
          "data": {
            "text/plain": [
              "<Figure size 432x288 with 1 Axes>"
            ],
            "image/png": "[encoded data removed]"
          },
          "metadata": {
            "needs_background": "light"
          }
        }
      ]
    },
    {
      "cell_type": "code",
      "source": [
        "# Bar graph to show number of children/Parents passengers have come with\n",
        "sns.countplot(titanic.Parch)\n",
        "plt.title(\"Number of Children/Parents Aboard\")\n",
        "plt.xlabel(\"Children/Parents Aboard\")"
      ],
      "metadata": {
        "colab": {
          "base_uri": "https://localhost:8080/",
          "height": 313
        },
        "id": "pSXvBZsFPO9R",
        "outputId": "8733eb37-717f-43d0-e6de-9ecc07281b03"
      },
      "execution_count": 2263,
      "outputs": [
        {
          "output_type": "execute_result",
          "data": {
            "text/plain": [
              "Text(0.5, 0, 'Children/Parents Aboard')"
            ]
          },
          "metadata": {},
          "execution_count": 2263
        },
        {
          "output_type": "display_data",
          "data": {
            "text/plain": [
              "<Figure size 432x288 with 1 Axes>"
            ],
            "image/png": "[encoded data removed]"
          },
          "metadata": {
            "needs_background": "light"
          }
        }
      ]
    },
    {
      "cell_type": "markdown",
      "source": [
        "5 - Check for Missing data \n"
      ],
      "metadata": {
        "id": "Gi60l5WklRVr"
      }
    },
    {
      "cell_type": "code",
      "source": [
        "# List of all columns in the dataframe along with their respective number of missing data\n",
        "titanic.isnull().sum()"
      ],
      "metadata": {
        "colab": {
          "base_uri": "https://localhost:8080/"
        },
        "id": "kR4sTr02hhPp",
        "outputId": "07f3fd54-0e78-4ab9-e314-1c0a64a19314"
      },
      "execution_count": 2264,
      "outputs": [
        {
          "output_type": "execute_result",
          "data": {
            "text/plain": [
              "PassengerId      0\n",
              "Survived         0\n",
              "Pclass           0\n",
              "Name             0\n",
              "Sex              0\n",
              "Age            177\n",
              "SibSp            0\n",
              "Parch            0\n",
              "Ticket           0\n",
              "Fare             0\n",
              "Cabin          687\n",
              "Embarked         2\n",
              "dtype: int64"
            ]
          },
          "metadata": {},
          "execution_count": 2264
        }
      ]
    },
    {
      "cell_type": "markdown",
      "source": [
        "Note : According to titanic.isnull().sum(), there are 177 missing data in Age column, 687 missing data in Cabin column, and 2 missing data in Embarked column."
      ],
      "metadata": {
        "id": "7aAd--pyQlo9"
      }
    },
    {
      "cell_type": "markdown",
      "source": [
        "6 - Data Cleaning : Impute missing values in Age based Pclass"
      ],
      "metadata": {
        "id": "VFrUoPl2lXAu"
      }
    },
    {
      "cell_type": "code",
      "source": [
        "# Step 1 : Check for missing Age values in each of the Pclass (1,2,3)\n",
        "null_1 = titanic['Age'][titanic['Pclass'] == 1].isnull()\n",
        "null_2 = titanic['Age'][titanic['Pclass'] == 2].isnull()\n",
        "null_3 = titanic['Age'][titanic['Pclass'] == 3].isnull()\n",
        "print(\"Total number of missing Age value in Pclass1 =\", len(null_1[null_1 == True]))\n",
        "print(\"Total number of missing Age value in Pclass2 =\", len(null_2[null_2 == True]))\n",
        "print(\"Total number of missing Age value in Pclass3 =\", len(null_3[null_3 == True]))"
      ],
      "metadata": {
        "id": "5hdPd7_E2p0w",
        "colab": {
          "base_uri": "https://localhost:8080/"
        },
        "outputId": "3f6d5131-ffb7-418a-f86e-7eb2b52caa90"
      },
      "execution_count": 2265,
      "outputs": [
        {
          "output_type": "stream",
          "name": "stdout",
          "text": [
            "Total number of missing Age value in Pclass1 = 30\n",
            "Total number of missing Age value in Pclass2 = 11\n",
            "Total number of missing Age value in Pclass3 = 136\n"
          ]
        }
      ]
    },
    {
      "cell_type": "code",
      "source": [
        "# Step 2 : Calculate the mean Age in each of the PClass (1,2,3)\n",
        "pc1 = titanic['Age'][titanic['Pclass'] == 1].mean(skipna = True)\n",
        "pc2 = titanic['Age'][titanic['Pclass'] == 2].mean(skipna = True)\n",
        "pc3 = titanic['Age'][titanic['Pclass'] == 3].mean(skipna = True)\n",
        "print(\"Mean Age of Pclass1 =\", pc1)\n",
        "print(\"Mean Age of Pclass2 =\", pc2)\n",
        "print(\"Mean Age of Pclass3 =\", pc3)"
      ],
      "metadata": {
        "colab": {
          "base_uri": "https://localhost:8080/"
        },
        "id": "eRTmVmFmqqYK",
        "outputId": "0c9c1def-db06-421b-e781-62e90303051f"
      },
      "execution_count": 2266,
      "outputs": [
        {
          "output_type": "stream",
          "name": "stdout",
          "text": [
            "Mean Age of Pclass1 = 38.233440860215055\n",
            "Mean Age of Pclass2 = 29.87763005780347\n",
            "Mean Age of Pclass3 = 25.14061971830986\n"
          ]
        }
      ]
    },
    {
      "cell_type": "code",
      "source": [
        "# Step 3 : Impute the mean Age values inplace of missing Age values \n",
        "titanic['Age'].fillna(titanic.groupby('Pclass')['Age'].transform('mean'), inplace = True)"
      ],
      "metadata": {
        "id": "nLH_tsb2kxNn"
      },
      "execution_count": 2267,
      "outputs": []
    },
    {
      "cell_type": "code",
      "source": [
        "# Step 4 : Check if all the missing Age data has been filled (Testing)\n",
        "print(\"Number of missing data in Age column =\", titanic['Age'].isnull().sum())"
      ],
      "metadata": {
        "colab": {
          "base_uri": "https://localhost:8080/"
        },
        "id": "M_OPCZg_UIrm",
        "outputId": "1dc0e334-d31f-445d-8ae6-87f1899b6e35"
      },
      "execution_count": 2268,
      "outputs": [
        {
          "output_type": "stream",
          "name": "stdout",
          "text": [
            "Number of missing data in Age column = 0\n"
          ]
        }
      ]
    },
    {
      "cell_type": "markdown",
      "source": [
        "7 - Data Cleaning : Drop the Cabin Column"
      ],
      "metadata": {
        "id": "Wq1qZveImC4s"
      }
    },
    {
      "cell_type": "code",
      "source": [
        "# Step 1 : titanic.drop() to remove the Cabin column from the dataframe\n",
        "titanic_new = titanic.drop('Cabin', axis = 1)"
      ],
      "metadata": {
        "id": "xf5mG6EBl9ml"
      },
      "execution_count": 2269,
      "outputs": []
    },
    {
      "cell_type": "markdown",
      "source": [
        "8 - Data Cleaning : Drop the row in Embarked column that is NaN"
      ],
      "metadata": {
        "id": "GRuH7oKOmPUt"
      }
    },
    {
      "cell_type": "code",
      "source": [
        "# Step 1 : titanic.dropna to remove NaN values from Embarked column\n",
        "titanic_new.dropna(subset=['Embarked'], inplace = True)"
      ],
      "metadata": {
        "id": "Y8ZvWpYamUij"
      },
      "execution_count": 2270,
      "outputs": []
    },
    {
      "cell_type": "code",
      "source": [
        "# Step 2 : Check if the NaN values has been removed from Embarked column\n",
        "print(\"Is there any NaN value in Embarked column :\", titanic_new['Embarked'].isnull().values.any())"
      ],
      "metadata": {
        "id": "Ye5AJZXRwQw0",
        "colab": {
          "base_uri": "https://localhost:8080/"
        },
        "outputId": "2bec45df-ebfc-4075-e116-f4270c5b794a"
      },
      "execution_count": 2271,
      "outputs": [
        {
          "output_type": "stream",
          "name": "stdout",
          "text": [
            "Is there any NaN value in Embarked column : False\n"
          ]
        }
      ]
    },
    {
      "cell_type": "code",
      "source": [
        "titanic_new.head()"
      ],
      "metadata": {
        "colab": {
          "base_uri": "https://localhost:8080/",
          "height": 206
        },
        "id": "s7uEPeq2BaNR",
        "outputId": "77b2a904-b211-4f71-ad65-642b046e648d"
      },
      "execution_count": 2272,
      "outputs": [
        {
          "output_type": "execute_result",
          "data": {
            "text/plain": [
              "   PassengerId  Survived  Pclass  \\\n",
              "0            1         0       3   \n",
              "1            2         1       1   \n",
              "2            3         1       3   \n",
              "3            4         1       1   \n",
              "4            5         0       3   \n",
              "\n",
              "                                                Name     Sex   Age  SibSp  \\\n",
              "0                            Braund, Mr. Owen Harris    male  22.0      1   \n",
              "1  Cumings, Mrs. John Bradley (Florence Briggs Th...  female  38.0      1   \n",
              "2                             Heikkinen, Miss. Laina  female  26.0      0   \n",
              "3       Futrelle, Mrs. Jacques Heath (Lily May Peel)  female  35.0      1   \n",
              "4                           Allen, Mr. William Henry    male  35.0      0   \n",
              "\n",
              "   Parch            Ticket     Fare Embarked  \n",
              "0      0         A/5 21171   7.2500        S  \n",
              "1      0          PC 17599  71.2833        C  \n",
              "2      0  STON/O2. 3101282   7.9250        S  \n",
              "3      0            113803  53.1000        S  \n",
              "4      0            373450   8.0500        S  "
            ],
            "text/html": [
              "\n",
              "  <div id=\"df-febddb5e-7e4e-47b3-b2da-836a6aeaeca1\">\n",
              "    <div class=\"colab-df-container\">\n",
              "      <div>\n",
              "<style scoped>\n",
              "    .dataframe tbody tr th:only-of-type {\n",
              "        vertical-align: middle;\n",
              "    }\n",
              "\n",
              "    .dataframe tbody tr th {\n",
              "        vertical-align: top;\n",
              "    }\n",
              "\n",
              "    .dataframe thead th {\n",
              "        text-align: right;\n",
              "    }\n",
              "</style>\n",
              "<table border=\"1\" class=\"dataframe\">\n",
              "  <thead>\n",
              "    <tr style=\"text-align: right;\">\n",
              "      <th></th>\n",
              "      <th>PassengerId</th>\n",
              "      <th>Survived</th>\n",
              "      <th>Pclass</th>\n",
              "      <th>Name</th>\n",
              "      <th>Sex</th>\n",
              "      <th>Age</th>\n",
              "      <th>SibSp</th>\n",
              "      <th>Parch</th>\n",
              "      <th>Ticket</th>\n",
              "      <th>Fare</th>\n",
              "      <th>Embarked</th>\n",
              "    </tr>\n",
              "  </thead>\n",
              "  <tbody>\n",
              "    <tr>\n",
              "      <th>0</th>\n",
              "      <td>1</td>\n",
              "      <td>0</td>\n",
              "      <td>3</td>\n",
              "      <td>Braund, Mr. Owen Harris</td>\n",
              "      <td>male</td>\n",
              "      <td>22.0</td>\n",
              "      <td>1</td>\n",
              "      <td>0</td>\n",
              "      <td>A/5 21171</td>\n",
              "      <td>7.2500</td>\n",
              "      <td>S</td>\n",
              "    </tr>\n",
              "    <tr>\n",
              "      <th>1</th>\n",
              "      <td>2</td>\n",
              "      <td>1</td>\n",
              "      <td>1</td>\n",
              "      <td>Cumings, Mrs. John Bradley (Florence Briggs Th...</td>\n",
              "      <td>female</td>\n",
              "      <td>38.0</td>\n",
              "      <td>1</td>\n",
              "      <td>0</td>\n",
              "      <td>PC 17599</td>\n",
              "      <td>71.2833</td>\n",
              "      <td>C</td>\n",
              "    </tr>\n",
              "    <tr>\n",
              "      <th>2</th>\n",
              "      <td>3</td>\n",
              "      <td>1</td>\n",
              "      <td>3</td>\n",
              "      <td>Heikkinen, Miss. Laina</td>\n",
              "      <td>female</td>\n",
              "      <td>26.0</td>\n",
              "      <td>0</td>\n",
              "      <td>0</td>\n",
              "      <td>STON/O2. 3101282</td>\n",
              "      <td>7.9250</td>\n",
              "      <td>S</td>\n",
              "    </tr>\n",
              "    <tr>\n",
              "      <th>3</th>\n",
              "      <td>4</td>\n",
              "      <td>1</td>\n",
              "      <td>1</td>\n",
              "      <td>Futrelle, Mrs. Jacques Heath (Lily May Peel)</td>\n",
              "      <td>female</td>\n",
              "      <td>35.0</td>\n",
              "      <td>1</td>\n",
              "      <td>0</td>\n",
              "      <td>113803</td>\n",
              "      <td>53.1000</td>\n",
              "      <td>S</td>\n",
              "    </tr>\n",
              "    <tr>\n",
              "      <th>4</th>\n",
              "      <td>5</td>\n",
              "      <td>0</td>\n",
              "      <td>3</td>\n",
              "      <td>Allen, Mr. William Henry</td>\n",
              "      <td>male</td>\n",
              "      <td>35.0</td>\n",
              "      <td>0</td>\n",
              "      <td>0</td>\n",
              "      <td>373450</td>\n",
              "      <td>8.0500</td>\n",
              "      <td>S</td>\n",
              "    </tr>\n",
              "  </tbody>\n",
              "</table>\n",
              "</div>\n",
              "      <button class=\"colab-df-convert\" onclick=\"convertToInteractive('df-febddb5e-7e4e-47b3-b2da-836a6aeaeca1')\"\n",
              "              title=\"Convert this dataframe to an interactive table.\"\n",
              "              style=\"display:none;\">\n",
              "        \n",
              "  <svg xmlns=\"http://www.w3.org/2000/svg\" height=\"24px\"viewBox=\"0 0 24 24\"\n",
              "       width=\"24px\">\n",
              "    <path d=\"M0 0h24v24H0V0z\" fill=\"none\"/>\n",
              "    <path d=\"M18.56 5.44l.94 2.06.94-2.06 2.06-.94-2.06-.94-.94-2.06-.94 2.06-2.06.94zm-11 1L8.5 8.5l.94-2.06 2.06-.94-2.06-.94L8.5 2.5l-.94 2.06-2.06.94zm10 10l.94 2.06.94-2.06 2.06-.94-2.06-.94-.94-2.06-.94 2.06-2.06.94z\"/><path d=\"M17.41 7.96l-1.37-1.37c-.4-.4-.92-.59-1.43-.59-.52 0-1.04.2-1.43.59L10.3 9.45l-7.72 7.72c-.78.78-.78 2.05 0 2.83L4 21.41c.39.39.9.59 1.41.59.51 0 1.02-.2 1.41-.59l7.78-7.78 2.81-2.81c.8-.78.8-2.07 0-2.86zM5.41 20L4 18.59l7.72-7.72 1.47 1.35L5.41 20z\"/>\n",
              "  </svg>\n",
              "      </button>\n",
              "      \n",
              "  <style>\n",
              "    .colab-df-container {\n",
              "      display:flex;\n",
              "      flex-wrap:wrap;\n",
              "      gap: 12px;\n",
              "    }\n",
              "\n",
              "    .colab-df-convert {\n",
              "      background-color: #E8F0FE;\n",
              "      border: none;\n",
              "      border-radius: 50%;\n",
              "      cursor: pointer;\n",
              "      display: none;\n",
              "      fill: #1967D2;\n",
              "      height: 32px;\n",
              "      padding: 0 0 0 0;\n",
              "      width: 32px;\n",
              "    }\n",
              "\n",
              "    .colab-df-convert:hover {\n",
              "      background-color: #E2EBFA;\n",
              "      box-shadow: 0px 1px 2px rgba(60, 64, 67, 0.3), 0px 1px 3px 1px rgba(60, 64, 67, 0.15);\n",
              "      fill: #174EA6;\n",
              "    }\n",
              "\n",
              "    [theme=dark] .colab-df-convert {\n",
              "      background-color: #3B4455;\n",
              "      fill: #D2E3FC;\n",
              "    }\n",
              "\n",
              "    [theme=dark] .colab-df-convert:hover {\n",
              "      background-color: #434B5C;\n",
              "      box-shadow: 0px 1px 3px 1px rgba(0, 0, 0, 0.15);\n",
              "      filter: drop-shadow(0px 1px 2px rgba(0, 0, 0, 0.3));\n",
              "      fill: #FFFFFF;\n",
              "    }\n",
              "  </style>\n",
              "\n",
              "      <script>\n",
              "        const buttonEl =\n",
              "          document.querySelector('#df-febddb5e-7e4e-47b3-b2da-836a6aeaeca1 button.colab-df-convert');\n",
              "        buttonEl.style.display =\n",
              "          google.colab.kernel.accessAllowed ? 'block' : 'none';\n",
              "\n",
              "        async function convertToInteractive(key) {\n",
              "          const element = document.querySelector('#df-febddb5e-7e4e-47b3-b2da-836a6aeaeca1');\n",
              "          const dataTable =\n",
              "            await google.colab.kernel.invokeFunction('convertToInteractive',\n",
              "                                                     [key], {});\n",
              "          if (!dataTable) return;\n",
              "\n",
              "          const docLinkHtml = 'Like what you see? Visit the ' +\n",
              "            '<a target=\"_blank\" href=https://colab.research.google.com/notebooks/data_table.ipynb>data table notebook</a>'\n",
              "            + ' to learn more about interactive tables.';\n",
              "          element.innerHTML = '';\n",
              "          dataTable['output_type'] = 'display_data';\n",
              "          await google.colab.output.renderOutput(dataTable, element);\n",
              "          const docLink = document.createElement('div');\n",
              "          docLink.innerHTML = docLinkHtml;\n",
              "          element.appendChild(docLink);\n",
              "        }\n",
              "      </script>\n",
              "    </div>\n",
              "  </div>\n",
              "  "
            ]
          },
          "metadata": {},
          "execution_count": 2272
        }
      ]
    },
    {
      "cell_type": "markdown",
      "source": [
        "**EXTRA STEP**  - Data Cleaning : Drop all unwanted columns that are not in use"
      ],
      "metadata": {
        "id": "2kVFDl4NyEZl"
      }
    },
    {
      "cell_type": "code",
      "source": [
        "# Drop PassengerId, Name and Ticket columns as these will not contribute to Survival prediction\n",
        "titanic_new.drop(['PassengerId','Name','Ticket'], axis = 1, inplace = True)"
      ],
      "metadata": {
        "id": "IGkn1k3MzMes"
      },
      "execution_count": 2273,
      "outputs": []
    },
    {
      "cell_type": "code",
      "source": [
        "# Confirm that all unwanted columns are removed\n",
        "titanic_new.info()"
      ],
      "metadata": {
        "colab": {
          "base_uri": "https://localhost:8080/"
        },
        "id": "ePGBF5_l0gwk",
        "outputId": "afb15c60-8dd6-4861-d5c8-56f445cb0053"
      },
      "execution_count": 2274,
      "outputs": [
        {
          "output_type": "stream",
          "name": "stdout",
          "text": [
            "<class 'pandas.core.frame.DataFrame'>\n",
            "Int64Index: 889 entries, 0 to 890\n",
            "Data columns (total 8 columns):\n",
            " #   Column    Non-Null Count  Dtype  \n",
            "---  ------    --------------  -----  \n",
            " 0   Survived  889 non-null    int64  \n",
            " 1   Pclass    889 non-null    int64  \n",
            " 2   Sex       889 non-null    object \n",
            " 3   Age       889 non-null    float64\n",
            " 4   SibSp     889 non-null    int64  \n",
            " 5   Parch     889 non-null    int64  \n",
            " 6   Fare      889 non-null    float64\n",
            " 7   Embarked  889 non-null    object \n",
            "dtypes: float64(2), int64(4), object(2)\n",
            "memory usage: 62.5+ KB\n"
          ]
        }
      ]
    },
    {
      "cell_type": "markdown",
      "source": [
        "**Feature Engineering (Additional Step)** "
      ],
      "metadata": {
        "id": "wjPJDSSiVc4M"
      }
    },
    {
      "cell_type": "code",
      "source": [
        "#Get ticket information\n",
        "titanic['Ticket'].describe()"
      ],
      "metadata": {
        "colab": {
          "base_uri": "https://localhost:8080/"
        },
        "id": "8NmBWcq7XZ7m",
        "outputId": "dd06453c-2bda-484b-efa8-d4a571a70104"
      },
      "execution_count": 2275,
      "outputs": [
        {
          "output_type": "execute_result",
          "data": {
            "text/plain": [
              "count        891\n",
              "unique       681\n",
              "top       347082\n",
              "freq           7\n",
              "Name: Ticket, dtype: object"
            ]
          },
          "metadata": {},
          "execution_count": 2275
        }
      ]
    },
    {
      "cell_type": "markdown",
      "source": [
        "The information we get from Ticket is :\n",
        "*   There are 891 Ticket values (rows)\n",
        "*   Out of this 681 values are unique (no repetition)\n",
        "*   The most used Ticket value is 347082\n",
        "*  This value is repeated 7 times in the dataframe\n",
        "\n",
        "\n",
        "\n",
        "\n",
        "\n",
        "\n"
      ],
      "metadata": {
        "id": "q9ibNsUbXgmD"
      }
    },
    {
      "cell_type": "markdown",
      "source": [
        "**NOTE : Uncomment when running SECOND time** (last 2 lines)"
      ],
      "metadata": {
        "id": "Lt1axWmMkRbs"
      }
    },
    {
      "cell_type": "code",
      "source": [
        "# Grab the 'title' from the Name as a feature and Display the count of each 'title'\n",
        "##titanic_new['Title'] = titanic['Name'].apply(lambda x: x[x.find(', ')+2 : x.find('.')])\n",
        "##titanic_new['Title'].value_counts()"
      ],
      "metadata": {
        "id": "IzHyf_PpVXOR"
      },
      "execution_count": 2276,
      "outputs": []
    },
    {
      "cell_type": "markdown",
      "source": [
        "**NOTE : Uncomment when running SECOND time** (last 3 lines)"
      ],
      "metadata": {
        "id": "eR7xE7JUk5ds"
      }
    },
    {
      "cell_type": "code",
      "source": [
        "# Grab the Cabin letter as feature and Display the count of each letter\n",
        "##titanic.dropna(subset=['Cabin'], inplace = True)\n",
        "##titanic_new['Cabin_Letter'] = titanic['Cabin'].astype(str).str[0]\n",
        "##titanic_new['Cabin_Letter'].value_counts()"
      ],
      "metadata": {
        "id": "YZ_8AwD9VgQV"
      },
      "execution_count": 2277,
      "outputs": []
    },
    {
      "cell_type": "markdown",
      "source": [
        "**NOTE : Uncomment when running SECOND time** (last line)"
      ],
      "metadata": {
        "id": "O7umAvdJk7u_"
      }
    },
    {
      "cell_type": "code",
      "source": [
        "# Information from Cabin_Letter\n",
        "##titanic_new['Cabin_Letter'].describe()"
      ],
      "metadata": {
        "id": "CK1Qfc3LVjw1"
      },
      "execution_count": 2278,
      "outputs": []
    },
    {
      "cell_type": "markdown",
      "source": [
        "9 - Convert categorical features (Sex, Embark) to dummy variables using get_dummies **(without feature engineering)**"
      ],
      "metadata": {
        "id": "eXqRx4cKazlD"
      }
    },
    {
      "cell_type": "code",
      "source": [
        "titanic_new = pd.get_dummies(titanic_new,columns = ['Sex','Embarked'])"
      ],
      "metadata": {
        "id": "Wk1kDczFa3R8"
      },
      "execution_count": 2279,
      "outputs": []
    },
    {
      "cell_type": "markdown",
      "source": [
        "Note : Sex is split into 'male' and 'female' dummy variables; Embarked is split into 'C', 'Q' and 'S' dummy variables"
      ],
      "metadata": {
        "id": "MDVU5zaCkGDe"
      }
    },
    {
      "cell_type": "markdown",
      "source": [
        "9 - Convert categorical features (Sex, Embark) to dummy variables using get_dummies **(with feature engineering)**"
      ],
      "metadata": {
        "id": "1Erluuz_d4VA"
      }
    },
    {
      "cell_type": "code",
      "source": [
        "#titanic_new = pd.get_dummies(titanic_new,columns = ['Sex','Embarked','Title','Cabin_Letter'])"
      ],
      "metadata": {
        "id": "CS-AkZYlWFII"
      },
      "execution_count": 2280,
      "outputs": []
    },
    {
      "cell_type": "code",
      "source": [
        "# Check if the dummy variables are created\n",
        "titanic_new.head()"
      ],
      "metadata": {
        "id": "e5m6Mjyce5Aj",
        "colab": {
          "base_uri": "https://localhost:8080/",
          "height": 206
        },
        "outputId": "5f61344c-93a7-4fae-ebf4-1cbc2d2da8c4"
      },
      "execution_count": 2281,
      "outputs": [
        {
          "output_type": "execute_result",
          "data": {
            "text/plain": [
              "   Survived  Pclass   Age  SibSp  Parch     Fare  Sex_female  Sex_male  \\\n",
              "0         0       3  22.0      1      0   7.2500           0         1   \n",
              "1         1       1  38.0      1      0  71.2833           1         0   \n",
              "2         1       3  26.0      0      0   7.9250           1         0   \n",
              "3         1       1  35.0      1      0  53.1000           1         0   \n",
              "4         0       3  35.0      0      0   8.0500           0         1   \n",
              "\n",
              "   Embarked_C  Embarked_Q  Embarked_S  \n",
              "0           0           0           1  \n",
              "1           1           0           0  \n",
              "2           0           0           1  \n",
              "3           0           0           1  \n",
              "4           0           0           1  "
            ],
            "text/html": [
              "\n",
              "  <div id=\"df-d9527f5d-654f-4d65-92a5-abc2cbf50cbc\">\n",
              "    <div class=\"colab-df-container\">\n",
              "      <div>\n",
              "<style scoped>\n",
              "    .dataframe tbody tr th:only-of-type {\n",
              "        vertical-align: middle;\n",
              "    }\n",
              "\n",
              "    .dataframe tbody tr th {\n",
              "        vertical-align: top;\n",
              "    }\n",
              "\n",
              "    .dataframe thead th {\n",
              "        text-align: right;\n",
              "    }\n",
              "</style>\n",
              "<table border=\"1\" class=\"dataframe\">\n",
              "  <thead>\n",
              "    <tr style=\"text-align: right;\">\n",
              "      <th></th>\n",
              "      <th>Survived</th>\n",
              "      <th>Pclass</th>\n",
              "      <th>Age</th>\n",
              "      <th>SibSp</th>\n",
              "      <th>Parch</th>\n",
              "      <th>Fare</th>\n",
              "      <th>Sex_female</th>\n",
              "      <th>Sex_male</th>\n",
              "      <th>Embarked_C</th>\n",
              "      <th>Embarked_Q</th>\n",
              "      <th>Embarked_S</th>\n",
              "    </tr>\n",
              "  </thead>\n",
              "  <tbody>\n",
              "    <tr>\n",
              "      <th>0</th>\n",
              "      <td>0</td>\n",
              "      <td>3</td>\n",
              "      <td>22.0</td>\n",
              "      <td>1</td>\n",
              "      <td>0</td>\n",
              "      <td>7.2500</td>\n",
              "      <td>0</td>\n",
              "      <td>1</td>\n",
              "      <td>0</td>\n",
              "      <td>0</td>\n",
              "      <td>1</td>\n",
              "    </tr>\n",
              "    <tr>\n",
              "      <th>1</th>\n",
              "      <td>1</td>\n",
              "      <td>1</td>\n",
              "      <td>38.0</td>\n",
              "      <td>1</td>\n",
              "      <td>0</td>\n",
              "      <td>71.2833</td>\n",
              "      <td>1</td>\n",
              "      <td>0</td>\n",
              "      <td>1</td>\n",
              "      <td>0</td>\n",
              "      <td>0</td>\n",
              "    </tr>\n",
              "    <tr>\n",
              "      <th>2</th>\n",
              "      <td>1</td>\n",
              "      <td>3</td>\n",
              "      <td>26.0</td>\n",
              "      <td>0</td>\n",
              "      <td>0</td>\n",
              "      <td>7.9250</td>\n",
              "      <td>1</td>\n",
              "      <td>0</td>\n",
              "      <td>0</td>\n",
              "      <td>0</td>\n",
              "      <td>1</td>\n",
              "    </tr>\n",
              "    <tr>\n",
              "      <th>3</th>\n",
              "      <td>1</td>\n",
              "      <td>1</td>\n",
              "      <td>35.0</td>\n",
              "      <td>1</td>\n",
              "      <td>0</td>\n",
              "      <td>53.1000</td>\n",
              "      <td>1</td>\n",
              "      <td>0</td>\n",
              "      <td>0</td>\n",
              "      <td>0</td>\n",
              "      <td>1</td>\n",
              "    </tr>\n",
              "    <tr>\n",
              "      <th>4</th>\n",
              "      <td>0</td>\n",
              "      <td>3</td>\n",
              "      <td>35.0</td>\n",
              "      <td>0</td>\n",
              "      <td>0</td>\n",
              "      <td>8.0500</td>\n",
              "      <td>0</td>\n",
              "      <td>1</td>\n",
              "      <td>0</td>\n",
              "      <td>0</td>\n",
              "      <td>1</td>\n",
              "    </tr>\n",
              "  </tbody>\n",
              "</table>\n",
              "</div>\n",
              "      <button class=\"colab-df-convert\" onclick=\"convertToInteractive('df-d9527f5d-654f-4d65-92a5-abc2cbf50cbc')\"\n",
              "              title=\"Convert this dataframe to an interactive table.\"\n",
              "              style=\"display:none;\">\n",
              "        \n",
              "  <svg xmlns=\"http://www.w3.org/2000/svg\" height=\"24px\"viewBox=\"0 0 24 24\"\n",
              "       width=\"24px\">\n",
              "    <path d=\"M0 0h24v24H0V0z\" fill=\"none\"/>\n",
              "    <path d=\"M18.56 5.44l.94 2.06.94-2.06 2.06-.94-2.06-.94-.94-2.06-.94 2.06-2.06.94zm-11 1L8.5 8.5l.94-2.06 2.06-.94-2.06-.94L8.5 2.5l-.94 2.06-2.06.94zm10 10l.94 2.06.94-2.06 2.06-.94-2.06-.94-.94-2.06-.94 2.06-2.06.94z\"/><path d=\"M17.41 7.96l-1.37-1.37c-.4-.4-.92-.59-1.43-.59-.52 0-1.04.2-1.43.59L10.3 9.45l-7.72 7.72c-.78.78-.78 2.05 0 2.83L4 21.41c.39.39.9.59 1.41.59.51 0 1.02-.2 1.41-.59l7.78-7.78 2.81-2.81c.8-.78.8-2.07 0-2.86zM5.41 20L4 18.59l7.72-7.72 1.47 1.35L5.41 20z\"/>\n",
              "  </svg>\n",
              "      </button>\n",
              "      \n",
              "  <style>\n",
              "    .colab-df-container {\n",
              "      display:flex;\n",
              "      flex-wrap:wrap;\n",
              "      gap: 12px;\n",
              "    }\n",
              "\n",
              "    .colab-df-convert {\n",
              "      background-color: #E8F0FE;\n",
              "      border: none;\n",
              "      border-radius: 50%;\n",
              "      cursor: pointer;\n",
              "      display: none;\n",
              "      fill: #1967D2;\n",
              "      height: 32px;\n",
              "      padding: 0 0 0 0;\n",
              "      width: 32px;\n",
              "    }\n",
              "\n",
              "    .colab-df-convert:hover {\n",
              "      background-color: #E2EBFA;\n",
              "      box-shadow: 0px 1px 2px rgba(60, 64, 67, 0.3), 0px 1px 3px 1px rgba(60, 64, 67, 0.15);\n",
              "      fill: #174EA6;\n",
              "    }\n",
              "\n",
              "    [theme=dark] .colab-df-convert {\n",
              "      background-color: #3B4455;\n",
              "      fill: #D2E3FC;\n",
              "    }\n",
              "\n",
              "    [theme=dark] .colab-df-convert:hover {\n",
              "      background-color: #434B5C;\n",
              "      box-shadow: 0px 1px 3px 1px rgba(0, 0, 0, 0.15);\n",
              "      filter: drop-shadow(0px 1px 2px rgba(0, 0, 0, 0.3));\n",
              "      fill: #FFFFFF;\n",
              "    }\n",
              "  </style>\n",
              "\n",
              "      <script>\n",
              "        const buttonEl =\n",
              "          document.querySelector('#df-d9527f5d-654f-4d65-92a5-abc2cbf50cbc button.colab-df-convert');\n",
              "        buttonEl.style.display =\n",
              "          google.colab.kernel.accessAllowed ? 'block' : 'none';\n",
              "\n",
              "        async function convertToInteractive(key) {\n",
              "          const element = document.querySelector('#df-d9527f5d-654f-4d65-92a5-abc2cbf50cbc');\n",
              "          const dataTable =\n",
              "            await google.colab.kernel.invokeFunction('convertToInteractive',\n",
              "                                                     [key], {});\n",
              "          if (!dataTable) return;\n",
              "\n",
              "          const docLinkHtml = 'Like what you see? Visit the ' +\n",
              "            '<a target=\"_blank\" href=https://colab.research.google.com/notebooks/data_table.ipynb>data table notebook</a>'\n",
              "            + ' to learn more about interactive tables.';\n",
              "          element.innerHTML = '';\n",
              "          dataTable['output_type'] = 'display_data';\n",
              "          await google.colab.output.renderOutput(dataTable, element);\n",
              "          const docLink = document.createElement('div');\n",
              "          docLink.innerHTML = docLinkHtml;\n",
              "          element.appendChild(docLink);\n",
              "        }\n",
              "      </script>\n",
              "    </div>\n",
              "  </div>\n",
              "  "
            ]
          },
          "metadata": {},
          "execution_count": 2281
        }
      ]
    },
    {
      "cell_type": "markdown",
      "source": [
        "10 - Build a logistic regression model "
      ],
      "metadata": {
        "id": "ynsDN8XggjuD"
      }
    },
    {
      "cell_type": "markdown",
      "source": [
        "Step 1 : Splitting the Data"
      ],
      "metadata": {
        "id": "MoC63AkM3tU7"
      }
    },
    {
      "cell_type": "code",
      "source": [
        "# Import required libraries to split the data\n",
        "from sklearn.model_selection import train_test_split"
      ],
      "metadata": {
        "id": "92dJpA3CmoR2"
      },
      "execution_count": 2282,
      "outputs": []
    },
    {
      "cell_type": "code",
      "source": [
        "# Define the X (indepenent) and y (dependent) variables\n",
        "X = titanic_new.drop('Survived', axis = 1)\n",
        "y = titanic_new['Survived']"
      ],
      "metadata": {
        "id": "cscW_-QPuHPi"
      },
      "execution_count": 2283,
      "outputs": []
    },
    {
      "cell_type": "code",
      "source": [
        "# Split the data into training and testing data on 70:30 ratio respectively \n",
        "X_train, X_test, y_train, y_test = train_test_split(X, y, train_size = 0.7, random_state = 24)"
      ],
      "metadata": {
        "id": "b6hbmoCTne_F"
      },
      "execution_count": 2284,
      "outputs": []
    },
    {
      "cell_type": "markdown",
      "source": [
        "Note : X_train and y_train are used for creating the logistic model, while X_test and y_test are used for testing the model"
      ],
      "metadata": {
        "id": "y66ZlN653DtW"
      }
    },
    {
      "cell_type": "code",
      "source": [
        "# View X_train data\n",
        "X_train"
      ],
      "metadata": {
        "id": "Qe0fO26eZCmB",
        "colab": {
          "base_uri": "https://localhost:8080/",
          "height": 423
        },
        "outputId": "bfdb893f-d1b2-4bab-bb67-8d0af29a6d6a"
      },
      "execution_count": 2285,
      "outputs": [
        {
          "output_type": "execute_result",
          "data": {
            "text/plain": [
              "     Pclass   Age  SibSp  Parch      Fare  Sex_female  Sex_male  Embarked_C  \\\n",
              "802       1  11.0      1      2  120.0000           0         1           0   \n",
              "855       3  18.0      0      1    9.3500           1         0           0   \n",
              "500       3  17.0      0      0    8.6625           0         1           0   \n",
              "798       3  30.0      0      0    7.2292           0         1           1   \n",
              "178       2  30.0      0      0   13.0000           0         1           0   \n",
              "..      ...   ...    ...    ...       ...         ...       ...         ...   \n",
              "146       3  27.0      0      0    7.7958           0         1           0   \n",
              "402       3  21.0      1      0    9.8250           1         0           0   \n",
              "344       2  36.0      0      0   13.0000           0         1           0   \n",
              "193       2   3.0      1      1   26.0000           0         1           0   \n",
              "419       3  10.0      0      2   24.1500           1         0           0   \n",
              "\n",
              "     Embarked_Q  Embarked_S  \n",
              "802           0           1  \n",
              "855           0           1  \n",
              "500           0           1  \n",
              "798           0           0  \n",
              "178           0           1  \n",
              "..          ...         ...  \n",
              "146           0           1  \n",
              "402           0           1  \n",
              "344           0           1  \n",
              "193           0           1  \n",
              "419           0           1  \n",
              "\n",
              "[622 rows x 10 columns]"
            ],
            "text/html": [
              "\n",
              "  <div id=\"df-d6e63ebc-0249-462b-aad9-76139a928909\">\n",
              "    <div class=\"colab-df-container\">\n",
              "      <div>\n",
              "<style scoped>\n",
              "    .dataframe tbody tr th:only-of-type {\n",
              "        vertical-align: middle;\n",
              "    }\n",
              "\n",
              "    .dataframe tbody tr th {\n",
              "        vertical-align: top;\n",
              "    }\n",
              "\n",
              "    .dataframe thead th {\n",
              "        text-align: right;\n",
              "    }\n",
              "</style>\n",
              "<table border=\"1\" class=\"dataframe\">\n",
              "  <thead>\n",
              "    <tr style=\"text-align: right;\">\n",
              "      <th></th>\n",
              "      <th>Pclass</th>\n",
              "      <th>Age</th>\n",
              "      <th>SibSp</th>\n",
              "      <th>Parch</th>\n",
              "      <th>Fare</th>\n",
              "      <th>Sex_female</th>\n",
              "      <th>Sex_male</th>\n",
              "      <th>Embarked_C</th>\n",
              "      <th>Embarked_Q</th>\n",
              "      <th>Embarked_S</th>\n",
              "    </tr>\n",
              "  </thead>\n",
              "  <tbody>\n",
              "    <tr>\n",
              "      <th>802</th>\n",
              "      <td>1</td>\n",
              "      <td>11.0</td>\n",
              "      <td>1</td>\n",
              "      <td>2</td>\n",
              "      <td>120.0000</td>\n",
              "      <td>0</td>\n",
              "      <td>1</td>\n",
              "      <td>0</td>\n",
              "      <td>0</td>\n",
              "      <td>1</td>\n",
              "    </tr>\n",
              "    <tr>\n",
              "      <th>855</th>\n",
              "      <td>3</td>\n",
              "      <td>18.0</td>\n",
              "      <td>0</td>\n",
              "      <td>1</td>\n",
              "      <td>9.3500</td>\n",
              "      <td>1</td>\n",
              "      <td>0</td>\n",
              "      <td>0</td>\n",
              "      <td>0</td>\n",
              "      <td>1</td>\n",
              "    </tr>\n",
              "    <tr>\n",
              "      <th>500</th>\n",
              "      <td>3</td>\n",
              "      <td>17.0</td>\n",
              "      <td>0</td>\n",
              "      <td>0</td>\n",
              "      <td>8.6625</td>\n",
              "      <td>0</td>\n",
              "      <td>1</td>\n",
              "      <td>0</td>\n",
              "      <td>0</td>\n",
              "      <td>1</td>\n",
              "    </tr>\n",
              "    <tr>\n",
              "      <th>798</th>\n",
              "      <td>3</td>\n",
              "      <td>30.0</td>\n",
              "      <td>0</td>\n",
              "      <td>0</td>\n",
              "      <td>7.2292</td>\n",
              "      <td>0</td>\n",
              "      <td>1</td>\n",
              "      <td>1</td>\n",
              "      <td>0</td>\n",
              "      <td>0</td>\n",
              "    </tr>\n",
              "    <tr>\n",
              "      <th>178</th>\n",
              "      <td>2</td>\n",
              "      <td>30.0</td>\n",
              "      <td>0</td>\n",
              "      <td>0</td>\n",
              "      <td>13.0000</td>\n",
              "      <td>0</td>\n",
              "      <td>1</td>\n",
              "      <td>0</td>\n",
              "      <td>0</td>\n",
              "      <td>1</td>\n",
              "    </tr>\n",
              "    <tr>\n",
              "      <th>...</th>\n",
              "      <td>...</td>\n",
              "      <td>...</td>\n",
              "      <td>...</td>\n",
              "      <td>...</td>\n",
              "      <td>...</td>\n",
              "      <td>...</td>\n",
              "      <td>...</td>\n",
              "      <td>...</td>\n",
              "      <td>...</td>\n",
              "      <td>...</td>\n",
              "    </tr>\n",
              "    <tr>\n",
              "      <th>146</th>\n",
              "      <td>3</td>\n",
              "      <td>27.0</td>\n",
              "      <td>0</td>\n",
              "      <td>0</td>\n",
              "      <td>7.7958</td>\n",
              "      <td>0</td>\n",
              "      <td>1</td>\n",
              "      <td>0</td>\n",
              "      <td>0</td>\n",
              "      <td>1</td>\n",
              "    </tr>\n",
              "    <tr>\n",
              "      <th>402</th>\n",
              "      <td>3</td>\n",
              "      <td>21.0</td>\n",
              "      <td>1</td>\n",
              "      <td>0</td>\n",
              "      <td>9.8250</td>\n",
              "      <td>1</td>\n",
              "      <td>0</td>\n",
              "      <td>0</td>\n",
              "      <td>0</td>\n",
              "      <td>1</td>\n",
              "    </tr>\n",
              "    <tr>\n",
              "      <th>344</th>\n",
              "      <td>2</td>\n",
              "      <td>36.0</td>\n",
              "      <td>0</td>\n",
              "      <td>0</td>\n",
              "      <td>13.0000</td>\n",
              "      <td>0</td>\n",
              "      <td>1</td>\n",
              "      <td>0</td>\n",
              "      <td>0</td>\n",
              "      <td>1</td>\n",
              "    </tr>\n",
              "    <tr>\n",
              "      <th>193</th>\n",
              "      <td>2</td>\n",
              "      <td>3.0</td>\n",
              "      <td>1</td>\n",
              "      <td>1</td>\n",
              "      <td>26.0000</td>\n",
              "      <td>0</td>\n",
              "      <td>1</td>\n",
              "      <td>0</td>\n",
              "      <td>0</td>\n",
              "      <td>1</td>\n",
              "    </tr>\n",
              "    <tr>\n",
              "      <th>419</th>\n",
              "      <td>3</td>\n",
              "      <td>10.0</td>\n",
              "      <td>0</td>\n",
              "      <td>2</td>\n",
              "      <td>24.1500</td>\n",
              "      <td>1</td>\n",
              "      <td>0</td>\n",
              "      <td>0</td>\n",
              "      <td>0</td>\n",
              "      <td>1</td>\n",
              "    </tr>\n",
              "  </tbody>\n",
              "</table>\n",
              "<p>622 rows × 10 columns</p>\n",
              "</div>\n",
              "      <button class=\"colab-df-convert\" onclick=\"convertToInteractive('df-d6e63ebc-0249-462b-aad9-76139a928909')\"\n",
              "              title=\"Convert this dataframe to an interactive table.\"\n",
              "              style=\"display:none;\">\n",
              "        \n",
              "  <svg xmlns=\"http://www.w3.org/2000/svg\" height=\"24px\"viewBox=\"0 0 24 24\"\n",
              "       width=\"24px\">\n",
              "    <path d=\"M0 0h24v24H0V0z\" fill=\"none\"/>\n",
              "    <path d=\"M18.56 5.44l.94 2.06.94-2.06 2.06-.94-2.06-.94-.94-2.06-.94 2.06-2.06.94zm-11 1L8.5 8.5l.94-2.06 2.06-.94-2.06-.94L8.5 2.5l-.94 2.06-2.06.94zm10 10l.94 2.06.94-2.06 2.06-.94-2.06-.94-.94-2.06-.94 2.06-2.06.94z\"/><path d=\"M17.41 7.96l-1.37-1.37c-.4-.4-.92-.59-1.43-.59-.52 0-1.04.2-1.43.59L10.3 9.45l-7.72 7.72c-.78.78-.78 2.05 0 2.83L4 21.41c.39.39.9.59 1.41.59.51 0 1.02-.2 1.41-.59l7.78-7.78 2.81-2.81c.8-.78.8-2.07 0-2.86zM5.41 20L4 18.59l7.72-7.72 1.47 1.35L5.41 20z\"/>\n",
              "  </svg>\n",
              "      </button>\n",
              "      \n",
              "  <style>\n",
              "    .colab-df-container {\n",
              "      display:flex;\n",
              "      flex-wrap:wrap;\n",
              "      gap: 12px;\n",
              "    }\n",
              "\n",
              "    .colab-df-convert {\n",
              "      background-color: #E8F0FE;\n",
              "      border: none;\n",
              "      border-radius: 50%;\n",
              "      cursor: pointer;\n",
              "      display: none;\n",
              "      fill: #1967D2;\n",
              "      height: 32px;\n",
              "      padding: 0 0 0 0;\n",
              "      width: 32px;\n",
              "    }\n",
              "\n",
              "    .colab-df-convert:hover {\n",
              "      background-color: #E2EBFA;\n",
              "      box-shadow: 0px 1px 2px rgba(60, 64, 67, 0.3), 0px 1px 3px 1px rgba(60, 64, 67, 0.15);\n",
              "      fill: #174EA6;\n",
              "    }\n",
              "\n",
              "    [theme=dark] .colab-df-convert {\n",
              "      background-color: #3B4455;\n",
              "      fill: #D2E3FC;\n",
              "    }\n",
              "\n",
              "    [theme=dark] .colab-df-convert:hover {\n",
              "      background-color: #434B5C;\n",
              "      box-shadow: 0px 1px 3px 1px rgba(0, 0, 0, 0.15);\n",
              "      filter: drop-shadow(0px 1px 2px rgba(0, 0, 0, 0.3));\n",
              "      fill: #FFFFFF;\n",
              "    }\n",
              "  </style>\n",
              "\n",
              "      <script>\n",
              "        const buttonEl =\n",
              "          document.querySelector('#df-d6e63ebc-0249-462b-aad9-76139a928909 button.colab-df-convert');\n",
              "        buttonEl.style.display =\n",
              "          google.colab.kernel.accessAllowed ? 'block' : 'none';\n",
              "\n",
              "        async function convertToInteractive(key) {\n",
              "          const element = document.querySelector('#df-d6e63ebc-0249-462b-aad9-76139a928909');\n",
              "          const dataTable =\n",
              "            await google.colab.kernel.invokeFunction('convertToInteractive',\n",
              "                                                     [key], {});\n",
              "          if (!dataTable) return;\n",
              "\n",
              "          const docLinkHtml = 'Like what you see? Visit the ' +\n",
              "            '<a target=\"_blank\" href=https://colab.research.google.com/notebooks/data_table.ipynb>data table notebook</a>'\n",
              "            + ' to learn more about interactive tables.';\n",
              "          element.innerHTML = '';\n",
              "          dataTable['output_type'] = 'display_data';\n",
              "          await google.colab.output.renderOutput(dataTable, element);\n",
              "          const docLink = document.createElement('div');\n",
              "          docLink.innerHTML = docLinkHtml;\n",
              "          element.appendChild(docLink);\n",
              "        }\n",
              "      </script>\n",
              "    </div>\n",
              "  </div>\n",
              "  "
            ]
          },
          "metadata": {},
          "execution_count": 2285
        }
      ]
    },
    {
      "cell_type": "code",
      "source": [
        "# View y_train data\n",
        "y_train"
      ],
      "metadata": {
        "id": "5BbOI6IRvuwd",
        "colab": {
          "base_uri": "https://localhost:8080/"
        },
        "outputId": "7fc7c86d-208c-4e09-a01c-16d026413cf3"
      },
      "execution_count": 2286,
      "outputs": [
        {
          "output_type": "execute_result",
          "data": {
            "text/plain": [
              "802    1\n",
              "855    1\n",
              "500    0\n",
              "798    0\n",
              "178    0\n",
              "      ..\n",
              "146    1\n",
              "402    0\n",
              "344    0\n",
              "193    1\n",
              "419    0\n",
              "Name: Survived, Length: 622, dtype: int64"
            ]
          },
          "metadata": {},
          "execution_count": 2286
        }
      ]
    },
    {
      "cell_type": "markdown",
      "source": [
        "Step 2 : Building the Model"
      ],
      "metadata": {
        "id": "52lzopLY3zcT"
      }
    },
    {
      "cell_type": "code",
      "source": [
        "# Import required libraries to build the logistic regression model\n",
        "from sklearn.linear_model import LogisticRegression"
      ],
      "metadata": {
        "id": "v9uAZcV1pGOH"
      },
      "execution_count": 2287,
      "outputs": []
    },
    {
      "cell_type": "code",
      "source": [
        "# Create logistic regression model using training data (X_train, y_train)\n",
        "model = LogisticRegression(solver = 'lbfgs', max_iter=900)\n",
        "model.fit(X_train, y_train)"
      ],
      "metadata": {
        "id": "g4CNo4Qw5Ay6",
        "colab": {
          "base_uri": "https://localhost:8080/"
        },
        "outputId": "7adb1fa5-9497-499e-9f63-47c830d4a208"
      },
      "execution_count": 2288,
      "outputs": [
        {
          "output_type": "execute_result",
          "data": {
            "text/plain": [
              "LogisticRegression(max_iter=900)"
            ]
          },
          "metadata": {},
          "execution_count": 2288
        }
      ]
    },
    {
      "cell_type": "code",
      "source": [
        "titanic_new.info()"
      ],
      "metadata": {
        "id": "F4xMvp9_OTdF",
        "colab": {
          "base_uri": "https://localhost:8080/"
        },
        "outputId": "99519b4b-dc2f-48f8-f7a9-4bd825d53acf"
      },
      "execution_count": 2289,
      "outputs": [
        {
          "output_type": "stream",
          "name": "stdout",
          "text": [
            "<class 'pandas.core.frame.DataFrame'>\n",
            "Int64Index: 889 entries, 0 to 890\n",
            "Data columns (total 11 columns):\n",
            " #   Column      Non-Null Count  Dtype  \n",
            "---  ------      --------------  -----  \n",
            " 0   Survived    889 non-null    int64  \n",
            " 1   Pclass      889 non-null    int64  \n",
            " 2   Age         889 non-null    float64\n",
            " 3   SibSp       889 non-null    int64  \n",
            " 4   Parch       889 non-null    int64  \n",
            " 5   Fare        889 non-null    float64\n",
            " 6   Sex_female  889 non-null    uint8  \n",
            " 7   Sex_male    889 non-null    uint8  \n",
            " 8   Embarked_C  889 non-null    uint8  \n",
            " 9   Embarked_Q  889 non-null    uint8  \n",
            " 10  Embarked_S  889 non-null    uint8  \n",
            "dtypes: float64(2), int64(4), uint8(5)\n",
            "memory usage: 53.0 KB\n"
          ]
        }
      ]
    },
    {
      "cell_type": "code",
      "source": [
        "# View X_test data\n",
        "X_test"
      ],
      "metadata": {
        "id": "0pBfcJpcrjoH",
        "colab": {
          "base_uri": "https://localhost:8080/",
          "height": 423
        },
        "outputId": "9ac04943-b94b-4e7f-e913-88418a0993ad"
      },
      "execution_count": 2290,
      "outputs": [
        {
          "output_type": "execute_result",
          "data": {
            "text/plain": [
              "     Pclass        Age  SibSp  Parch      Fare  Sex_female  Sex_male  \\\n",
              "170       1  61.000000      0      0   33.5000           0         1   \n",
              "557       1  38.233441      0      0  227.5250           0         1   \n",
              "207       3  26.000000      0      0   18.7875           0         1   \n",
              "72        2  21.000000      0      0   73.5000           0         1   \n",
              "830       3  15.000000      1      0   14.4542           1         0   \n",
              "..      ...        ...    ...    ...       ...         ...       ...   \n",
              "80        3  22.000000      0      0    9.0000           0         1   \n",
              "89        3  24.000000      0      0    8.0500           0         1   \n",
              "495       3  25.140620      0      0   14.4583           0         1   \n",
              "317       2  54.000000      0      0   14.0000           0         1   \n",
              "154       3  25.140620      0      0    7.3125           0         1   \n",
              "\n",
              "     Embarked_C  Embarked_Q  Embarked_S  \n",
              "170           0           0           1  \n",
              "557           1           0           0  \n",
              "207           1           0           0  \n",
              "72            0           0           1  \n",
              "830           1           0           0  \n",
              "..          ...         ...         ...  \n",
              "80            0           0           1  \n",
              "89            0           0           1  \n",
              "495           1           0           0  \n",
              "317           0           0           1  \n",
              "154           0           0           1  \n",
              "\n",
              "[267 rows x 10 columns]"
            ],
            "text/html": [
              "\n",
              "  <div id=\"df-f29fa719-4cd7-4a06-b600-6b358ef32d23\">\n",
              "    <div class=\"colab-df-container\">\n",
              "      <div>\n",
              "<style scoped>\n",
              "    .dataframe tbody tr th:only-of-type {\n",
              "        vertical-align: middle;\n",
              "    }\n",
              "\n",
              "    .dataframe tbody tr th {\n",
              "        vertical-align: top;\n",
              "    }\n",
              "\n",
              "    .dataframe thead th {\n",
              "        text-align: right;\n",
              "    }\n",
              "</style>\n",
              "<table border=\"1\" class=\"dataframe\">\n",
              "  <thead>\n",
              "    <tr style=\"text-align: right;\">\n",
              "      <th></th>\n",
              "      <th>Pclass</th>\n",
              "      <th>Age</th>\n",
              "      <th>SibSp</th>\n",
              "      <th>Parch</th>\n",
              "      <th>Fare</th>\n",
              "      <th>Sex_female</th>\n",
              "      <th>Sex_male</th>\n",
              "      <th>Embarked_C</th>\n",
              "      <th>Embarked_Q</th>\n",
              "      <th>Embarked_S</th>\n",
              "    </tr>\n",
              "  </thead>\n",
              "  <tbody>\n",
              "    <tr>\n",
              "      <th>170</th>\n",
              "      <td>1</td>\n",
              "      <td>61.000000</td>\n",
              "      <td>0</td>\n",
              "      <td>0</td>\n",
              "      <td>33.5000</td>\n",
              "      <td>0</td>\n",
              "      <td>1</td>\n",
              "      <td>0</td>\n",
              "      <td>0</td>\n",
              "      <td>1</td>\n",
              "    </tr>\n",
              "    <tr>\n",
              "      <th>557</th>\n",
              "      <td>1</td>\n",
              "      <td>38.233441</td>\n",
              "      <td>0</td>\n",
              "      <td>0</td>\n",
              "      <td>227.5250</td>\n",
              "      <td>0</td>\n",
              "      <td>1</td>\n",
              "      <td>1</td>\n",
              "      <td>0</td>\n",
              "      <td>0</td>\n",
              "    </tr>\n",
              "    <tr>\n",
              "      <th>207</th>\n",
              "      <td>3</td>\n",
              "      <td>26.000000</td>\n",
              "      <td>0</td>\n",
              "      <td>0</td>\n",
              "      <td>18.7875</td>\n",
              "      <td>0</td>\n",
              "      <td>1</td>\n",
              "      <td>1</td>\n",
              "      <td>0</td>\n",
              "      <td>0</td>\n",
              "    </tr>\n",
              "    <tr>\n",
              "      <th>72</th>\n",
              "      <td>2</td>\n",
              "      <td>21.000000</td>\n",
              "      <td>0</td>\n",
              "      <td>0</td>\n",
              "      <td>73.5000</td>\n",
              "      <td>0</td>\n",
              "      <td>1</td>\n",
              "      <td>0</td>\n",
              "      <td>0</td>\n",
              "      <td>1</td>\n",
              "    </tr>\n",
              "    <tr>\n",
              "      <th>830</th>\n",
              "      <td>3</td>\n",
              "      <td>15.000000</td>\n",
              "      <td>1</td>\n",
              "      <td>0</td>\n",
              "      <td>14.4542</td>\n",
              "      <td>1</td>\n",
              "      <td>0</td>\n",
              "      <td>1</td>\n",
              "      <td>0</td>\n",
              "      <td>0</td>\n",
              "    </tr>\n",
              "    <tr>\n",
              "      <th>...</th>\n",
              "      <td>...</td>\n",
              "      <td>...</td>\n",
              "      <td>...</td>\n",
              "      <td>...</td>\n",
              "      <td>...</td>\n",
              "      <td>...</td>\n",
              "      <td>...</td>\n",
              "      <td>...</td>\n",
              "      <td>...</td>\n",
              "      <td>...</td>\n",
              "    </tr>\n",
              "    <tr>\n",
              "      <th>80</th>\n",
              "      <td>3</td>\n",
              "      <td>22.000000</td>\n",
              "      <td>0</td>\n",
              "      <td>0</td>\n",
              "      <td>9.0000</td>\n",
              "      <td>0</td>\n",
              "      <td>1</td>\n",
              "      <td>0</td>\n",
              "      <td>0</td>\n",
              "      <td>1</td>\n",
              "    </tr>\n",
              "    <tr>\n",
              "      <th>89</th>\n",
              "      <td>3</td>\n",
              "      <td>24.000000</td>\n",
              "      <td>0</td>\n",
              "      <td>0</td>\n",
              "      <td>8.0500</td>\n",
              "      <td>0</td>\n",
              "      <td>1</td>\n",
              "      <td>0</td>\n",
              "      <td>0</td>\n",
              "      <td>1</td>\n",
              "    </tr>\n",
              "    <tr>\n",
              "      <th>495</th>\n",
              "      <td>3</td>\n",
              "      <td>25.140620</td>\n",
              "      <td>0</td>\n",
              "      <td>0</td>\n",
              "      <td>14.4583</td>\n",
              "      <td>0</td>\n",
              "      <td>1</td>\n",
              "      <td>1</td>\n",
              "      <td>0</td>\n",
              "      <td>0</td>\n",
              "    </tr>\n",
              "    <tr>\n",
              "      <th>317</th>\n",
              "      <td>2</td>\n",
              "      <td>54.000000</td>\n",
              "      <td>0</td>\n",
              "      <td>0</td>\n",
              "      <td>14.0000</td>\n",
              "      <td>0</td>\n",
              "      <td>1</td>\n",
              "      <td>0</td>\n",
              "      <td>0</td>\n",
              "      <td>1</td>\n",
              "    </tr>\n",
              "    <tr>\n",
              "      <th>154</th>\n",
              "      <td>3</td>\n",
              "      <td>25.140620</td>\n",
              "      <td>0</td>\n",
              "      <td>0</td>\n",
              "      <td>7.3125</td>\n",
              "      <td>0</td>\n",
              "      <td>1</td>\n",
              "      <td>0</td>\n",
              "      <td>0</td>\n",
              "      <td>1</td>\n",
              "    </tr>\n",
              "  </tbody>\n",
              "</table>\n",
              "<p>267 rows × 10 columns</p>\n",
              "</div>\n",
              "      <button class=\"colab-df-convert\" onclick=\"convertToInteractive('df-f29fa719-4cd7-4a06-b600-6b358ef32d23')\"\n",
              "              title=\"Convert this dataframe to an interactive table.\"\n",
              "              style=\"display:none;\">\n",
              "        \n",
              "  <svg xmlns=\"http://www.w3.org/2000/svg\" height=\"24px\"viewBox=\"0 0 24 24\"\n",
              "       width=\"24px\">\n",
              "    <path d=\"M0 0h24v24H0V0z\" fill=\"none\"/>\n",
              "    <path d=\"M18.56 5.44l.94 2.06.94-2.06 2.06-.94-2.06-.94-.94-2.06-.94 2.06-2.06.94zm-11 1L8.5 8.5l.94-2.06 2.06-.94-2.06-.94L8.5 2.5l-.94 2.06-2.06.94zm10 10l.94 2.06.94-2.06 2.06-.94-2.06-.94-.94-2.06-.94 2.06-2.06.94z\"/><path d=\"M17.41 7.96l-1.37-1.37c-.4-.4-.92-.59-1.43-.59-.52 0-1.04.2-1.43.59L10.3 9.45l-7.72 7.72c-.78.78-.78 2.05 0 2.83L4 21.41c.39.39.9.59 1.41.59.51 0 1.02-.2 1.41-.59l7.78-7.78 2.81-2.81c.8-.78.8-2.07 0-2.86zM5.41 20L4 18.59l7.72-7.72 1.47 1.35L5.41 20z\"/>\n",
              "  </svg>\n",
              "      </button>\n",
              "      \n",
              "  <style>\n",
              "    .colab-df-container {\n",
              "      display:flex;\n",
              "      flex-wrap:wrap;\n",
              "      gap: 12px;\n",
              "    }\n",
              "\n",
              "    .colab-df-convert {\n",
              "      background-color: #E8F0FE;\n",
              "      border: none;\n",
              "      border-radius: 50%;\n",
              "      cursor: pointer;\n",
              "      display: none;\n",
              "      fill: #1967D2;\n",
              "      height: 32px;\n",
              "      padding: 0 0 0 0;\n",
              "      width: 32px;\n",
              "    }\n",
              "\n",
              "    .colab-df-convert:hover {\n",
              "      background-color: #E2EBFA;\n",
              "      box-shadow: 0px 1px 2px rgba(60, 64, 67, 0.3), 0px 1px 3px 1px rgba(60, 64, 67, 0.15);\n",
              "      fill: #174EA6;\n",
              "    }\n",
              "\n",
              "    [theme=dark] .colab-df-convert {\n",
              "      background-color: #3B4455;\n",
              "      fill: #D2E3FC;\n",
              "    }\n",
              "\n",
              "    [theme=dark] .colab-df-convert:hover {\n",
              "      background-color: #434B5C;\n",
              "      box-shadow: 0px 1px 3px 1px rgba(0, 0, 0, 0.15);\n",
              "      filter: drop-shadow(0px 1px 2px rgba(0, 0, 0, 0.3));\n",
              "      fill: #FFFFFF;\n",
              "    }\n",
              "  </style>\n",
              "\n",
              "      <script>\n",
              "        const buttonEl =\n",
              "          document.querySelector('#df-f29fa719-4cd7-4a06-b600-6b358ef32d23 button.colab-df-convert');\n",
              "        buttonEl.style.display =\n",
              "          google.colab.kernel.accessAllowed ? 'block' : 'none';\n",
              "\n",
              "        async function convertToInteractive(key) {\n",
              "          const element = document.querySelector('#df-f29fa719-4cd7-4a06-b600-6b358ef32d23');\n",
              "          const dataTable =\n",
              "            await google.colab.kernel.invokeFunction('convertToInteractive',\n",
              "                                                     [key], {});\n",
              "          if (!dataTable) return;\n",
              "\n",
              "          const docLinkHtml = 'Like what you see? Visit the ' +\n",
              "            '<a target=\"_blank\" href=https://colab.research.google.com/notebooks/data_table.ipynb>data table notebook</a>'\n",
              "            + ' to learn more about interactive tables.';\n",
              "          element.innerHTML = '';\n",
              "          dataTable['output_type'] = 'display_data';\n",
              "          await google.colab.output.renderOutput(dataTable, element);\n",
              "          const docLink = document.createElement('div');\n",
              "          docLink.innerHTML = docLinkHtml;\n",
              "          element.appendChild(docLink);\n",
              "        }\n",
              "      </script>\n",
              "    </div>\n",
              "  </div>\n",
              "  "
            ]
          },
          "metadata": {},
          "execution_count": 2290
        }
      ]
    },
    {
      "cell_type": "markdown",
      "source": [
        "\n",
        "Note : Training data = 70% and Testing data = 30%\n",
        "\n",
        "*   Training data = 622 \n",
        "*   Testing data = 267\n",
        "*   Total data = 889 ( 2 rows were removed due to NaN value in Embarked column )\n",
        "\n",
        "\n"
      ],
      "metadata": {
        "id": "T9wPOOst66AI"
      }
    },
    {
      "cell_type": "markdown",
      "source": [
        "11 - Predict and Evaluate the model"
      ],
      "metadata": {
        "id": "x8dyRBOPoSn_"
      }
    },
    {
      "cell_type": "code",
      "source": [
        "# Predict the model\n",
        "y_pred = model.predict(X_test)\n",
        "y_pred"
      ],
      "metadata": {
        "id": "9QT1F6ik8b3u",
        "colab": {
          "base_uri": "https://localhost:8080/"
        },
        "outputId": "225dfca1-27cf-4985-f0a4-261592cc36b0"
      },
      "execution_count": 2291,
      "outputs": [
        {
          "output_type": "execute_result",
          "data": {
            "text/plain": [
              "array([0, 1, 0, 0, 1, 0, 0, 0, 0, 0, 0, 1, 1, 1, 0, 0, 0, 0, 0, 0, 0, 1,\n",
              "       0, 0, 1, 1, 0, 0, 1, 0, 1, 0, 1, 0, 0, 0, 1, 0, 0, 0, 1, 0, 0, 0,\n",
              "       0, 1, 0, 0, 0, 0, 0, 1, 1, 0, 0, 0, 1, 0, 0, 0, 0, 0, 0, 0, 0, 0,\n",
              "       0, 0, 0, 0, 0, 1, 0, 0, 0, 0, 0, 0, 1, 1, 0, 0, 0, 1, 0, 0, 1, 0,\n",
              "       0, 0, 0, 0, 0, 1, 0, 1, 0, 0, 0, 1, 0, 0, 1, 0, 0, 0, 1, 0, 0, 0,\n",
              "       0, 0, 0, 0, 0, 1, 1, 1, 0, 0, 1, 1, 0, 0, 0, 0, 0, 0, 0, 0, 0, 1,\n",
              "       1, 0, 1, 1, 0, 0, 0, 0, 0, 1, 0, 0, 1, 0, 1, 1, 0, 0, 1, 1, 1, 0,\n",
              "       1, 0, 1, 1, 0, 0, 0, 1, 0, 1, 0, 0, 1, 1, 0, 0, 0, 1, 1, 0, 0, 0,\n",
              "       0, 0, 1, 0, 1, 0, 0, 0, 0, 1, 1, 0, 0, 0, 0, 0, 0, 0, 1, 1, 0, 0,\n",
              "       0, 0, 1, 0, 0, 0, 1, 0, 1, 0, 1, 1, 0, 0, 0, 1, 0, 0, 1, 0, 0, 1,\n",
              "       1, 1, 0, 0, 0, 0, 0, 0, 1, 0, 0, 0, 1, 1, 0, 0, 0, 0, 0, 1, 0, 1,\n",
              "       1, 1, 1, 0, 1, 0, 0, 0, 1, 0, 0, 1, 0, 1, 0, 0, 1, 0, 0, 0, 0, 0,\n",
              "       0, 0, 0])"
            ]
          },
          "metadata": {},
          "execution_count": 2291
        }
      ]
    },
    {
      "cell_type": "code",
      "source": [
        "# Count of Survived / Not Survived\n",
        "print('Number of people who are predicted to survive (testing data) =', np.count_nonzero(y_pred == 1))\n",
        "print('Number of people who are predicted to not survive (testing data) =', np.count_nonzero(y_pred == 0))"
      ],
      "metadata": {
        "id": "uKsHHmpCFyWh",
        "colab": {
          "base_uri": "https://localhost:8080/"
        },
        "outputId": "40401b67-0b9e-4b66-bd9d-9bdb882148c6"
      },
      "execution_count": 2292,
      "outputs": [
        {
          "output_type": "stream",
          "name": "stdout",
          "text": [
            "Number of people who are predicted to survive (testing data) = 81\n",
            "Number of people who are predicted to not survive (testing data) = 186\n"
          ]
        }
      ]
    },
    {
      "cell_type": "code",
      "source": [
        "# Probabilities that the predicted output is equal to 0 (deceased) or 1 (survival)\n",
        "model.predict_proba(X_test)"
      ],
      "metadata": {
        "id": "K0txoFQHr9Kw",
        "colab": {
          "base_uri": "https://localhost:8080/"
        },
        "outputId": "f112a93f-f0b9-40f5-a9a9-952b44797492"
      },
      "execution_count": 2293,
      "outputs": [
        {
          "output_type": "execute_result",
          "data": {
            "text/plain": [
              "array([[0.76100345, 0.23899655],\n",
              "       [0.33484021, 0.66515979],\n",
              "       [0.86559837, 0.13440163],\n",
              "       [0.66337493, 0.33662507],\n",
              "       [0.31930038, 0.68069962],\n",
              "       [0.52514948, 0.47485052],\n",
              "       [0.90197194, 0.09802806],\n",
              "       [0.73776004, 0.26223996],\n",
              "       [0.84051431, 0.15948569],\n",
              "       [0.87450241, 0.12549759],\n",
              "       [0.77875555, 0.22124445],\n",
              "       [0.44750012, 0.55249988],\n",
              "       [0.05732893, 0.94267107],\n",
              "       [0.1271221 , 0.8728779 ],\n",
              "       [0.83096278, 0.16903722],\n",
              "       [0.92915466, 0.07084534],\n",
              "       [0.95961846, 0.04038154],\n",
              "       [0.59489873, 0.40510127],\n",
              "       [0.88194871, 0.11805129],\n",
              "       [0.89621114, 0.10378886],\n",
              "       [0.750847  , 0.249153  ],\n",
              "       [0.0839828 , 0.9160172 ],\n",
              "       [0.9656923 , 0.0343077 ],\n",
              "       [0.87456972, 0.12543028],\n",
              "       [0.05553532, 0.94446468],\n",
              "       [0.20729288, 0.79270712],\n",
              "       [0.79879041, 0.20120959],\n",
              "       [0.74781222, 0.25218778],\n",
              "       [0.24827625, 0.75172375],\n",
              "       [0.85437035, 0.14562965],\n",
              "       [0.11115918, 0.88884082],\n",
              "       [0.88064887, 0.11935113],\n",
              "       [0.05810966, 0.94189034],\n",
              "       [0.88252009, 0.11747991],\n",
              "       [0.8531235 , 0.1468765 ],\n",
              "       [0.53671056, 0.46328944],\n",
              "       [0.05699364, 0.94300636],\n",
              "       [0.89606858, 0.10393142],\n",
              "       [0.86146046, 0.13853954],\n",
              "       [0.70252964, 0.29747036],\n",
              "       [0.04207715, 0.95792285],\n",
              "       [0.83002302, 0.16997698],\n",
              "       [0.6634071 , 0.3365929 ],\n",
              "       [0.88854715, 0.11145285],\n",
              "       [0.92403928, 0.07596072],\n",
              "       [0.13194058, 0.86805942],\n",
              "       [0.66206866, 0.33793134],\n",
              "       [0.89351464, 0.10648536],\n",
              "       [0.86521495, 0.13478505],\n",
              "       [0.71067832, 0.28932168],\n",
              "       [0.95338467, 0.04661533],\n",
              "       [0.05644065, 0.94355935],\n",
              "       [0.25891249, 0.74108751],\n",
              "       [0.87777394, 0.12222606],\n",
              "       [0.94331797, 0.05668203],\n",
              "       [0.54466406, 0.45533594],\n",
              "       [0.2198918 , 0.7801082 ],\n",
              "       [0.86745569, 0.13254431],\n",
              "       [0.90514861, 0.09485139],\n",
              "       [0.90725017, 0.09274983],\n",
              "       [0.90512866, 0.09487134],\n",
              "       [0.92386508, 0.07613492],\n",
              "       [0.90511445, 0.09488555],\n",
              "       [0.61233076, 0.38766924],\n",
              "       [0.83474819, 0.16525181],\n",
              "       [0.89896197, 0.10103803],\n",
              "       [0.81670298, 0.18329702],\n",
              "       [0.87214602, 0.12785398],\n",
              "       [0.89615407, 0.10384593],\n",
              "       [0.86974517, 0.13025483],\n",
              "       [0.94005143, 0.05994857],\n",
              "       [0.07320886, 0.92679114],\n",
              "       [0.59274695, 0.40725305],\n",
              "       [0.88083872, 0.11916128],\n",
              "       [0.65790586, 0.34209414],\n",
              "       [0.83042023, 0.16957977],\n",
              "       [0.89719476, 0.10280524],\n",
              "       [0.76185568, 0.23814432],\n",
              "       [0.39406694, 0.60593306],\n",
              "       [0.29649073, 0.70350927],\n",
              "       [0.56885681, 0.43114319],\n",
              "       [0.5346682 , 0.4653318 ],\n",
              "       [0.71865504, 0.28134496],\n",
              "       [0.2855514 , 0.7144486 ],\n",
              "       [0.66803581, 0.33196419],\n",
              "       [0.53693471, 0.46306529],\n",
              "       [0.36200811, 0.63799189],\n",
              "       [0.83043423, 0.16956577],\n",
              "       [0.9104102 , 0.0895898 ],\n",
              "       [0.83042023, 0.16957977],\n",
              "       [0.92200447, 0.07799553],\n",
              "       [0.88169476, 0.11830524],\n",
              "       [0.83042723, 0.16957277],\n",
              "       [0.43778454, 0.56221546],\n",
              "       [0.90807015, 0.09192985],\n",
              "       [0.27288941, 0.72711059],\n",
              "       [0.74237802, 0.25762198],\n",
              "       [0.94791174, 0.05208826],\n",
              "       [0.87743418, 0.12256582],\n",
              "       [0.37920073, 0.62079927],\n",
              "       [0.87165893, 0.12834107],\n",
              "       [0.92431806, 0.07568194],\n",
              "       [0.28558184, 0.71441816],\n",
              "       [0.78243968, 0.21756032],\n",
              "       [0.91489796, 0.08510204],\n",
              "       [0.65407282, 0.34592718],\n",
              "       [0.41329893, 0.58670107],\n",
              "       [0.5976878 , 0.4023122 ],\n",
              "       [0.87797539, 0.12202461],\n",
              "       [0.78198135, 0.21801865],\n",
              "       [0.87832776, 0.12167224],\n",
              "       [0.91375259, 0.08624741],\n",
              "       [0.64498388, 0.35501612],\n",
              "       [0.94846755, 0.05153245],\n",
              "       [0.91642091, 0.08357909],\n",
              "       [0.22527641, 0.77472359],\n",
              "       [0.17689854, 0.82310146],\n",
              "       [0.16668205, 0.83331795],\n",
              "       [0.93180937, 0.06819063],\n",
              "       [0.78243968, 0.21756032],\n",
              "       [0.22406698, 0.77593302],\n",
              "       [0.47014363, 0.52985637],\n",
              "       [0.87679892, 0.12320108],\n",
              "       [0.63195661, 0.36804339],\n",
              "       [0.84548707, 0.15451293],\n",
              "       [0.89633905, 0.10366095],\n",
              "       [0.68024625, 0.31975375],\n",
              "       [0.56990984, 0.43009016],\n",
              "       [0.78243968, 0.21756032],\n",
              "       [0.89621114, 0.10378886],\n",
              "       [0.68761998, 0.31238002],\n",
              "       [0.28558184, 0.71441816],\n",
              "       [0.46739962, 0.53260038],\n",
              "       [0.6440674 , 0.3559326 ],\n",
              "       [0.432718  , 0.567282  ],\n",
              "       [0.28922654, 0.71077346],\n",
              "       [0.88206257, 0.11793743],\n",
              "       [0.6754938 , 0.3245062 ],\n",
              "       [0.73079611, 0.26920389],\n",
              "       [0.87456972, 0.12543028],\n",
              "       [0.91653049, 0.08346951],\n",
              "       [0.34590152, 0.65409848],\n",
              "       [0.69435761, 0.30564239],\n",
              "       [0.82804532, 0.17195468],\n",
              "       [0.28107333, 0.71892667],\n",
              "       [0.81020855, 0.18979145],\n",
              "       [0.11229694, 0.88770306],\n",
              "       [0.3482174 , 0.6517826 ],\n",
              "       [0.87857317, 0.12142683],\n",
              "       [0.88552638, 0.11447362],\n",
              "       [0.13598032, 0.86401968],\n",
              "       [0.16511039, 0.83488961],\n",
              "       [0.09221969, 0.90778031],\n",
              "       [0.85042386, 0.14957614],\n",
              "       [0.42920448, 0.57079552],\n",
              "       [0.87063054, 0.12936946],\n",
              "       [0.28547697, 0.71452303],\n",
              "       [0.49653476, 0.50346524],\n",
              "       [0.88045922, 0.11954078],\n",
              "       [0.93006193, 0.06993807],\n",
              "       [0.5408945 , 0.4591055 ],\n",
              "       [0.12717274, 0.87282726],\n",
              "       [0.95573352, 0.04426648],\n",
              "       [0.24202114, 0.75797886],\n",
              "       [0.86745569, 0.13254431],\n",
              "       [0.76145617, 0.23854383],\n",
              "       [0.05400305, 0.94599695],\n",
              "       [0.05754044, 0.94245956],\n",
              "       [0.74579132, 0.25420868],\n",
              "       [0.54241639, 0.45758361],\n",
              "       [0.75232538, 0.24767462],\n",
              "       [0.40523679, 0.59476321],\n",
              "       [0.25652123, 0.74347877],\n",
              "       [0.72335916, 0.27664084],\n",
              "       [0.69875387, 0.30124613],\n",
              "       [0.91882498, 0.08117502],\n",
              "       [0.78353885, 0.21646115],\n",
              "       [0.89621114, 0.10378886],\n",
              "       [0.23837308, 0.76162692],\n",
              "       [0.93621118, 0.06378882],\n",
              "       [0.3251268 , 0.6748732 ],\n",
              "       [0.7976665 , 0.2023335 ],\n",
              "       [0.89615407, 0.10384593],\n",
              "       [0.87835786, 0.12164214],\n",
              "       [0.89615407, 0.10384593],\n",
              "       [0.42076373, 0.57923627],\n",
              "       [0.13559531, 0.86440469],\n",
              "       [0.86715047, 0.13284953],\n",
              "       [0.92240838, 0.07759162],\n",
              "       [0.89865189, 0.10134811],\n",
              "       [0.89606858, 0.10393142],\n",
              "       [0.89644989, 0.10355011],\n",
              "       [0.86131811, 0.13868189],\n",
              "       [0.8667757 , 0.1332243 ],\n",
              "       [0.39582348, 0.60417652],\n",
              "       [0.40293588, 0.59706412],\n",
              "       [0.88227969, 0.11772031],\n",
              "       [0.92659784, 0.07340216],\n",
              "       [0.92044527, 0.07955473],\n",
              "       [0.86745569, 0.13254431],\n",
              "       [0.11159232, 0.88840768],\n",
              "       [0.86203043, 0.13796957],\n",
              "       [0.94334455, 0.05665545],\n",
              "       [0.93011942, 0.06988058],\n",
              "       [0.06543018, 0.93456982],\n",
              "       [0.89599445, 0.10400555],\n",
              "       [0.34183523, 0.65816477],\n",
              "       [0.91370555, 0.08629445],\n",
              "       [0.28922654, 0.71077346],\n",
              "       [0.32057179, 0.67942821],\n",
              "       [0.89621114, 0.10378886],\n",
              "       [0.70337262, 0.29662738],\n",
              "       [0.90894373, 0.09105627],\n",
              "       [0.28397348, 0.71602652],\n",
              "       [0.62850393, 0.37149607],\n",
              "       [0.91641201, 0.08358799],\n",
              "       [0.06799792, 0.93200208],\n",
              "       [0.80496412, 0.19503588],\n",
              "       [0.94177704, 0.05822296],\n",
              "       [0.25881103, 0.74118897],\n",
              "       [0.06902243, 0.93097757],\n",
              "       [0.06479142, 0.93520858],\n",
              "       [0.94537274, 0.05462726],\n",
              "       [0.9190855 , 0.0809145 ],\n",
              "       [0.94477705, 0.05522295],\n",
              "       [0.94102877, 0.05897123],\n",
              "       [0.8556898 , 0.1443102 ],\n",
              "       [0.89274557, 0.10725443],\n",
              "       [0.12742841, 0.87257159],\n",
              "       [0.88188375, 0.11811625],\n",
              "       [0.83981755, 0.16018245],\n",
              "       [0.83893944, 0.16106056],\n",
              "       [0.47485611, 0.52514389],\n",
              "       [0.18512461, 0.81487539],\n",
              "       [0.90895008, 0.09104992],\n",
              "       [0.735662  , 0.264338  ],\n",
              "       [0.65000474, 0.34999526],\n",
              "       [0.89621114, 0.10378886],\n",
              "       [0.59701368, 0.40298632],\n",
              "       [0.38536869, 0.61463131],\n",
              "       [0.98474699, 0.01525301],\n",
              "       [0.15158764, 0.84841236],\n",
              "       [0.04011248, 0.95988752],\n",
              "       [0.12446588, 0.87553412],\n",
              "       [0.37591503, 0.62408497],\n",
              "       [0.92933807, 0.07066193],\n",
              "       [0.04487041, 0.95512959],\n",
              "       [0.98474699, 0.01525301],\n",
              "       [0.66668644, 0.33331356],\n",
              "       [0.87456972, 0.12543028],\n",
              "       [0.31369493, 0.68630507],\n",
              "       [0.75547174, 0.24452826],\n",
              "       [0.8627112 , 0.1372888 ],\n",
              "       [0.41684933, 0.58315067],\n",
              "       [0.86370896, 0.13629104],\n",
              "       [0.24401713, 0.75598287],\n",
              "       [0.76437655, 0.23562345],\n",
              "       [0.82431915, 0.17568085],\n",
              "       [0.20706415, 0.79293585],\n",
              "       [0.52073236, 0.47926764],\n",
              "       [0.90181151, 0.09818849],\n",
              "       [0.87999536, 0.12000464],\n",
              "       [0.88514268, 0.11485732],\n",
              "       [0.89239906, 0.10760094],\n",
              "       [0.86411373, 0.13588627],\n",
              "       [0.88738028, 0.11261972],\n",
              "       [0.89642681, 0.10357319]])"
            ]
          },
          "metadata": {},
          "execution_count": 2293
        }
      ]
    },
    {
      "cell_type": "code",
      "source": [
        "# Accuracy of predicted model\n",
        "print(\"The accuracy of the model =\", model.score(X_test,y_test) *100)"
      ],
      "metadata": {
        "id": "3IfkGtFi6rHc",
        "colab": {
          "base_uri": "https://localhost:8080/"
        },
        "outputId": "4cb0ac63-b3f5-40c2-8cb3-b0276a66f197"
      },
      "execution_count": 2294,
      "outputs": [
        {
          "output_type": "stream",
          "name": "stdout",
          "text": [
            "The accuracy of the model = 83.89513108614233\n"
          ]
        }
      ]
    },
    {
      "cell_type": "code",
      "source": [
        "# Value of b in y = m*x + b (y-intercept)\n",
        "model.intercept_"
      ],
      "metadata": {
        "id": "2pdT2p8K6tEC",
        "colab": {
          "base_uri": "https://localhost:8080/"
        },
        "outputId": "2b9f9a65-4507-4f41-8634-594b0964028d"
      },
      "execution_count": 2295,
      "outputs": [
        {
          "output_type": "execute_result",
          "data": {
            "text/plain": [
              "array([3.43625693])"
            ]
          },
          "metadata": {},
          "execution_count": 2295
        }
      ]
    },
    {
      "cell_type": "code",
      "source": [
        "# Value of m in y = m*x + b (coefficient of the features)\n",
        "model.coef_"
      ],
      "metadata": {
        "id": "oRVgscR76uFp",
        "colab": {
          "base_uri": "https://localhost:8080/"
        },
        "outputId": "784e0b6b-487d-4e0f-faee-16cfd49c51db"
      },
      "execution_count": 2296,
      "outputs": [
        {
          "output_type": "execute_result",
          "data": {
            "text/plain": [
              "array([[-1.07224803e+00, -3.48231059e-02, -2.51784851e-01,\n",
              "        -1.21403074e-01,  3.97855046e-03,  1.25519903e+00,\n",
              "        -1.25034921e+00, -1.09837592e-03,  2.86868645e-01,\n",
              "        -2.80920449e-01]])"
            ]
          },
          "metadata": {},
          "execution_count": 2296
        }
      ]
    },
    {
      "cell_type": "markdown",
      "source": [
        "12 - Analyse Confusion Matrix and Classification Report"
      ],
      "metadata": {
        "id": "YsWIjGXvo1zR"
      }
    },
    {
      "cell_type": "markdown",
      "source": [
        "Note : Key points\n",
        "       \n",
        "1.   Positive = Survived (1)\n",
        "2.   Negative = Not Survived (0)"
      ],
      "metadata": {
        "id": "duS39dUMyJfI"
      }
    },
    {
      "cell_type": "code",
      "source": [
        "from sklearn.metrics import confusion_matrix, ConfusionMatrixDisplay, classification_report"
      ],
      "metadata": {
        "id": "5RAp3xwjNVrG"
      },
      "execution_count": 2297,
      "outputs": []
    },
    {
      "cell_type": "code",
      "source": [
        "print(confusion_matrix(y_test, y_pred))"
      ],
      "metadata": {
        "id": "Vd-2A3kCNXwW",
        "colab": {
          "base_uri": "https://localhost:8080/"
        },
        "outputId": "72267631-c199-42c4-c74b-a65c3845dc93"
      },
      "execution_count": 2298,
      "outputs": [
        {
          "output_type": "stream",
          "name": "stdout",
          "text": [
            "[[156  13]\n",
            " [ 30  68]]\n"
          ]
        }
      ]
    },
    {
      "cell_type": "code",
      "source": [
        "conf_m = ConfusionMatrixDisplay(confusion_matrix(y_test, y_pred))\n",
        "conf_m.plot()"
      ],
      "metadata": {
        "id": "AMzuSDCzOTNS",
        "colab": {
          "base_uri": "https://localhost:8080/",
          "height": 297
        },
        "outputId": "ec128f71-481b-482c-8a43-198c170663d9"
      },
      "execution_count": 2299,
      "outputs": [
        {
          "output_type": "execute_result",
          "data": {
            "text/plain": [
              "<sklearn.metrics._plot.confusion_matrix.ConfusionMatrixDisplay at 0x7f633e0633d0>"
            ]
          },
          "metadata": {},
          "execution_count": 2299
        },
        {
          "output_type": "display_data",
          "data": {
            "text/plain": [
              "<Figure size 432x288 with 2 Axes>"
            ],
            "image/png": "[encoded data removed]"
          },
          "metadata": {
            "needs_background": "light"
          }
        }
      ]
    },
    {
      "cell_type": "code",
      "source": [
        "TN, FN, FP, TP = confusion_matrix(y_test ,y_pred).ravel()\n",
        "print('True Negative :', TN)\n",
        "print('False Negative :', FN)\n",
        "print('False Positive :', FP)\n",
        "print('True Positive :', TP)"
      ],
      "metadata": {
        "id": "ic9UK-0KZWaU",
        "colab": {
          "base_uri": "https://localhost:8080/"
        },
        "outputId": "e351c3b7-c0d2-497c-ed15-b756a455d74d"
      },
      "execution_count": 2300,
      "outputs": [
        {
          "output_type": "stream",
          "name": "stdout",
          "text": [
            "True Negative : 156\n",
            "False Negative : 13\n",
            "False Positive : 30\n",
            "True Positive : 68\n"
          ]
        }
      ]
    },
    {
      "cell_type": "code",
      "source": [
        "print(classification_report(y_test, y_pred))"
      ],
      "metadata": {
        "id": "BqCy_STIODLE",
        "colab": {
          "base_uri": "https://localhost:8080/"
        },
        "outputId": "3c575daa-285c-48ce-f156-b53e2849b2f5"
      },
      "execution_count": 2301,
      "outputs": [
        {
          "output_type": "stream",
          "name": "stdout",
          "text": [
            "              precision    recall  f1-score   support\n",
            "\n",
            "           0       0.84      0.92      0.88       169\n",
            "           1       0.84      0.69      0.76        98\n",
            "\n",
            "    accuracy                           0.84       267\n",
            "   macro avg       0.84      0.81      0.82       267\n",
            "weighted avg       0.84      0.84      0.84       267\n",
            "\n"
          ]
        }
      ]
    },
    {
      "cell_type": "markdown",
      "source": [
        "******************************************************************** THE END ************************************************************************"
      ],
      "metadata": {
        "id": "ddngJeYbjwtb"
      }
    }
  ]
}